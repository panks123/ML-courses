{
 "cells": [
  {
   "cell_type": "code",
   "execution_count": 2,
   "metadata": {},
   "outputs": [],
   "source": [
    "from numpy import *  "
   ]
  },
  {
   "cell_type": "code",
   "execution_count": 4,
   "metadata": {},
   "outputs": [
    {
     "name": "stdout",
     "output_type": "stream",
     "text": [
      "[1 2 3 4 5]\n"
     ]
    }
   ],
   "source": [
    "arr=array([1,2,3,4,5])\n",
    "print(arr)"
   ]
  },
  {
   "cell_type": "code",
   "execution_count": 5,
   "metadata": {},
   "outputs": [
    {
     "name": "stdout",
     "output_type": "stream",
     "text": [
      "int32\n"
     ]
    }
   ],
   "source": [
    "print(arr.dtype)"
   ]
  },
  {
   "cell_type": "code",
   "execution_count": 7,
   "metadata": {},
   "outputs": [
    {
     "name": "stdout",
     "output_type": "stream",
     "text": [
      "[1 2 3 4 8]\n"
     ]
    }
   ],
   "source": [
    "arr=array([1,2,3.3,4.5,8],int)\n",
    "print(arr)"
   ]
  },
  {
   "cell_type": "markdown",
   "metadata": {},
   "source": [
    "# Different types of creating arrays"
   ]
  },
  {
   "cell_type": "code",
   "execution_count": 9,
   "metadata": {},
   "outputs": [
    {
     "data": {
      "text/plain": [
       "array([ 0.   ,  1.875,  3.75 ,  5.625,  7.5  ,  9.375, 11.25 , 13.125,\n",
       "       15.   ])"
      ]
     },
     "execution_count": 9,
     "metadata": {},
     "output_type": "execute_result"
    }
   ],
   "source": [
    "arr=linspace(0,15,9)\n",
    "arr"
   ]
  },
  {
   "cell_type": "code",
   "execution_count": 10,
   "metadata": {},
   "outputs": [
    {
     "name": "stdout",
     "output_type": "stream",
     "text": [
      "[ 0.          0.30612245  0.6122449   0.91836735  1.2244898   1.53061224\n",
      "  1.83673469  2.14285714  2.44897959  2.75510204  3.06122449  3.36734694\n",
      "  3.67346939  3.97959184  4.28571429  4.59183673  4.89795918  5.20408163\n",
      "  5.51020408  5.81632653  6.12244898  6.42857143  6.73469388  7.04081633\n",
      "  7.34693878  7.65306122  7.95918367  8.26530612  8.57142857  8.87755102\n",
      "  9.18367347  9.48979592  9.79591837 10.10204082 10.40816327 10.71428571\n",
      " 11.02040816 11.32653061 11.63265306 11.93877551 12.24489796 12.55102041\n",
      " 12.85714286 13.16326531 13.46938776 13.7755102  14.08163265 14.3877551\n",
      " 14.69387755 15.        ]\n"
     ]
    }
   ],
   "source": [
    "arr=linspace(0,15) # 50 parts automatically \n",
    "print(arr)\n",
    "\n"
   ]
  },
  {
   "cell_type": "code",
   "execution_count": 11,
   "metadata": {},
   "outputs": [
    {
     "name": "stdout",
     "output_type": "stream",
     "text": [
      "[ 1  3  5  7  9 11 13 15 17 19 21 23 25 27 29 31 33 35 37 39 41 43 45 47\n",
      " 49]\n"
     ]
    }
   ],
   "source": [
    "arr=arange(1,50,2)\n",
    "print(arr)"
   ]
  },
  {
   "cell_type": "code",
   "execution_count": 12,
   "metadata": {},
   "outputs": [
    {
     "name": "stdout",
     "output_type": "stream",
     "text": [
      "[1.00000000e+01 5.62341325e+10 3.16227766e+20 1.77827941e+30\n",
      " 1.00000000e+40]\n"
     ]
    }
   ],
   "source": [
    "arr=logspace(1,40,5)\n",
    "print(arr)"
   ]
  },
  {
   "cell_type": "code",
   "execution_count": 14,
   "metadata": {},
   "outputs": [
    {
     "name": "stdout",
     "output_type": "stream",
     "text": [
      "[0. 0. 0. 0. 0.]\n"
     ]
    }
   ],
   "source": [
    "arr= zeros(5)\n",
    "print(arr)"
   ]
  },
  {
   "cell_type": "code",
   "execution_count": 15,
   "metadata": {},
   "outputs": [
    {
     "name": "stdout",
     "output_type": "stream",
     "text": [
      "[0 0 0 0 0]\n"
     ]
    }
   ],
   "source": [
    "arr= zeros(5,int)\n",
    "print(arr)"
   ]
  },
  {
   "cell_type": "code",
   "execution_count": 16,
   "metadata": {},
   "outputs": [
    {
     "name": "stdout",
     "output_type": "stream",
     "text": [
      "[1. 1. 1. 1. 1.]\n"
     ]
    }
   ],
   "source": [
    "arr= ones(5)\n",
    "print(arr)"
   ]
  },
  {
   "cell_type": "code",
   "execution_count": 17,
   "metadata": {},
   "outputs": [
    {
     "name": "stdout",
     "output_type": "stream",
     "text": [
      "[1 1 1 1 1]\n"
     ]
    }
   ],
   "source": [
    "arr= ones(5,int)\n",
    "print(arr)"
   ]
  },
  {
   "cell_type": "markdown",
   "metadata": {},
   "source": [
    "# array addition"
   ]
  },
  {
   "cell_type": "markdown",
   "metadata": {},
   "source": [
    "\n",
    "#1. Scalar Addition"
   ]
  },
  {
   "cell_type": "code",
   "execution_count": 19,
   "metadata": {},
   "outputs": [
    {
     "name": "stdout",
     "output_type": "stream",
     "text": [
      "[ 6  8  9  7 12]\n"
     ]
    }
   ],
   "source": [
    "arr=array([1,3,4,2,7])\n",
    "arr=arr+5\n",
    "print(arr)"
   ]
  },
  {
   "cell_type": "markdown",
   "metadata": {},
   "source": [
    "\n",
    "#1. Vectorized Addition"
   ]
  },
  {
   "cell_type": "code",
   "execution_count": 21,
   "metadata": {},
   "outputs": [
    {
     "name": "stdout",
     "output_type": "stream",
     "text": [
      "Addition:  [ 2  5  7  6 12]\n"
     ]
    }
   ],
   "source": [
    "arr1=arr=array([1,3,4,2,7])\n",
    "arr2=array([1,2,3,4,5])\n",
    "print(\"Addition: \",arr1+arr2)"
   ]
  },
  {
   "cell_type": "code",
   "execution_count": 22,
   "metadata": {},
   "outputs": [
    {
     "name": "stdout",
     "output_type": "stream",
     "text": [
      "Sine: [ 0.01770193  0.99991186 -0.99975517 -0.00885131 -0.02655115]\n",
      "Cosine: [ 0.99984331 -0.01327675  0.02212676 -0.99996083 -0.99964746]\n",
      "Tangent: [ 1.77046993e-02 -7.53130148e+01 -4.51830879e+01  8.85165604e-03\n",
      "  2.65605178e-02]\n",
      "Logarithn: [3.78418963 3.49650756 4.00733319 3.09104245 4.18965474]\n",
      "Minimum: 22\n",
      "Maximum: 66\n",
      "Square root: [6.63324958 5.74456265 7.41619849 4.69041576 8.1240384 ]\n"
     ]
    }
   ],
   "source": [
    "arr=array([44,33,55,22,66])\n",
    "print(\"Sine:\",sin(arr))\n",
    "print(\"Cosine:\",cos(arr))\n",
    "print(\"Tangent:\",tan(arr))\n",
    "print(\"Logarithn:\",log(arr))\n",
    "print(\"Minimum:\",min(arr))\n",
    "print(\"Maximum:\",max(arr))\n",
    "print(\"Square root:\",sqrt(arr))"
   ]
  },
  {
   "cell_type": "code",
   "execution_count": 23,
   "metadata": {},
   "outputs": [
    {
     "name": "stdout",
     "output_type": "stream",
     "text": [
      "[33 22 44 55 66 77 45 99 67 98 34  9 23]\n"
     ]
    }
   ],
   "source": [
    "arr1=array([33,22,44,55,66,77])\n",
    "arr2=array([45,99,67,98,34,9,23])\n",
    "print(concatenate((arr1,arr2)))"
   ]
  },
  {
   "cell_type": "markdown",
   "metadata": {},
   "source": [
    "# Aliasing"
   ]
  },
  {
   "cell_type": "code",
   "execution_count": 27,
   "metadata": {},
   "outputs": [
    {
     "name": "stdout",
     "output_type": "stream",
     "text": [
      "[22 33 44 55 66]\n",
      "[22 33 44 55 66]\n",
      "273070424\n",
      "273070424\n",
      "[22  0 44 55 66]\n",
      "[22  0 44 55 66]\n"
     ]
    }
   ],
   "source": [
    "arr1=array([22,33,44,55,66])\n",
    "arr2=arr1 #Aliasing->Same like shallow copy\n",
    "print(arr1)\n",
    "print(arr2)\n",
    "print(id(arr1))\n",
    "print(id(arr2))\n",
    "arr1[1]=0\n",
    "print(arr1)\n",
    "print(arr2)"
   ]
  },
  {
   "cell_type": "code",
   "execution_count": 35,
   "metadata": {},
   "outputs": [
    {
     "name": "stdout",
     "output_type": "stream",
     "text": [
      "[22 33 44 55 66]\n",
      "[22 33 44 55 66]\n",
      "273069024\n",
      "273070344\n",
      "[22  0 44 55 66]\n",
      "[22  0 44 55 66]\n"
     ]
    }
   ],
   "source": [
    "from numpy import *\n",
    "arr1=array([22,33,44,55,66])\n",
    "#shallow copy\n",
    "arr2=arr1.view()\n",
    "print(arr1)\n",
    "print(arr2)\n",
    "print(id(arr1))\n",
    "print(id(arr2))\n",
    "arr1[1]=0\n",
    "print(arr1)\n",
    "print(arr2)"
   ]
  },
  {
   "cell_type": "code",
   "execution_count": 28,
   "metadata": {},
   "outputs": [
    {
     "name": "stdout",
     "output_type": "stream",
     "text": [
      "[22 33 44 55 66]\n",
      "[22 33 44 55 66]\n",
      "273071784\n",
      "273070704\n",
      "[22 33 44 55 66]\n",
      "[22  0 44 55 66]\n"
     ]
    }
   ],
   "source": [
    "from numpy import *\n",
    "arr1=array([22,33,44,55,66])\n",
    "#deep copy\n",
    "arr2=arr1.copy()\n",
    "print(arr1)\n",
    "print(arr2)\n",
    "print(id(arr1))\n",
    "print(id(arr2))\n",
    "arr2[1]=0\n",
    "print(arr1)\n",
    "print(arr2)"
   ]
  },
  {
   "cell_type": "code",
   "execution_count": 29,
   "metadata": {},
   "outputs": [
    {
     "name": "stdout",
     "output_type": "stream",
     "text": [
      "Dimension: 2\n",
      "Shape: (2, 3)\n",
      "Size: 6\n"
     ]
    }
   ],
   "source": [
    "from numpy import *\n",
    "#matrix\n",
    "arr1=array([[1,2,3],[4,5,6]])\n",
    "print(\"Dimension:\",arr1.ndim)\n",
    "print(\"Shape:\",arr1.shape)\n",
    "print(\"Size:\",arr1.size)"
   ]
  },
  {
   "cell_type": "code",
   "execution_count": 30,
   "metadata": {},
   "outputs": [
    {
     "name": "stdout",
     "output_type": "stream",
     "text": [
      "[ 1  2  3  4  5  6  7  8  9 10 11 12]\n",
      "[ 1  2  3  9 10 11  4  5  6  7  8  9  1  2  3]\n"
     ]
    }
   ],
   "source": [
    "from numpy import *\n",
    "arr1=array([\n",
    "    [1,2,3,4,5,6],\n",
    "    [7,8,9,10,11,12]\n",
    "])\n",
    "arr2=arr1.flatten() #Converts into 1D\n",
    "print(arr2)\n",
    "\n",
    "arr3=array([\n",
    "    [\n",
    "        [1,2,3],[9,10,11],[4,5,6],[7,8,9],[1,2,3]\n",
    "    ]\n",
    "])\n",
    "arr4=arr3.flatten()\n",
    "print(arr4)\n"
   ]
  },
  {
   "cell_type": "code",
   "execution_count": 32,
   "metadata": {},
   "outputs": [
    {
     "name": "stdout",
     "output_type": "stream",
     "text": [
      "[[ 1  2  3]\n",
      " [ 9 10 11]\n",
      " [ 4  5  6]\n",
      " [ 7  8  9]\n",
      " [ 1  2  3]]\n",
      "-------------------------------\n",
      "[[[1 2 3]\n",
      "  [2 4 5]]\n",
      "\n",
      " [[6 7 1]\n",
      "  [2 3 4]]]\n"
     ]
    }
   ],
   "source": [
    "from numpy import*\n",
    "arr3=array([\n",
    "    [\n",
    "        [1,2,3],[9,10,11],[4,5,6],[7,8,9],[1,2,3]\n",
    "    ]\n",
    "])\n",
    "arr4=arr3.flatten()\n",
    "arr5=arr4.reshape(5,3) #it will reshape the array to a 2D array of order 5X3\n",
    "print(arr5)\n",
    "print(\"-------------------------------\")\n",
    "arr1=array([[1,2,3,2],[4,5,6,7],[1,2,3,4]])\n",
    "arr2=arr1.reshape(2,2,3)\n",
    "print(arr2)\n"
   ]
  },
  {
   "cell_type": "code",
   "execution_count": 33,
   "metadata": {},
   "outputs": [
    {
     "name": "stdout",
     "output_type": "stream",
     "text": [
      "[[1 2 3 4]\n",
      " [2 1 3 4]]\n",
      "--------------------------------\n",
      "[[1 2 3 4]\n",
      " [4 3 2 1]\n",
      " [1 2 3 4]\n",
      " [4 3 2 1]]\n"
     ]
    }
   ],
   "source": [
    "from numpy  import *\n",
    "arr1=array([[1,2,3,4],[2,1,3,4]])\n",
    "\n",
    "m=matrix(arr1) # converts array into matrix\n",
    "print(m)\n",
    "\n",
    "print(\"--------------------------------\")\n",
    "# creating matrix\n",
    "m1=matrix('1 2 3 4;4 3 2 1;1 2 3 4;4 3 2 1')\n",
    "print(m1)\n",
    "\n",
    "\n"
   ]
  },
  {
   "cell_type": "code",
   "execution_count": 34,
   "metadata": {},
   "outputs": [
    {
     "name": "stdout",
     "output_type": "stream",
     "text": [
      "[[1 2 3]\n",
      " [6 7 8]\n",
      " [3 3 3]]\n",
      "===================\n",
      "Diagonal: [1 7 3]\n",
      "===================\n",
      "Max: 8\n",
      "===================\n",
      "Min: 1\n",
      "===================\n",
      "+++++++++++++++++++++++\n",
      "[[11 22 33]\n",
      " [66 77  8]\n",
      " [33 33 33]]\n",
      "+++++++++++++++++++++++\n",
      "Addition:\n",
      "[[12 24 36]\n",
      " [72 84 16]\n",
      " [36 36 36]]\n",
      "------------------------\n",
      "Subtraction:\n",
      "[[-10 -20 -30]\n",
      " [-60 -70   0]\n",
      " [-30 -30 -30]]\n",
      "***********************\n",
      "Multiplication:\n",
      "[[242 275 148]\n",
      " [792 935 518]\n",
      " [330 396 222]]\n"
     ]
    }
   ],
   "source": [
    "\n",
    "m1=matrix('1,2,3;6 7 8;3,3,3')\n",
    "print(m1)\n",
    "print(\"===================\")\n",
    "print(\"Diagonal:\",diagonal(m1))\n",
    "print(\"===================\")\n",
    "print(\"Max:\",m1.max())\n",
    "print(\"===================\")\n",
    "print(\"Min:\",m1.min())\n",
    "print(\"===================\")\n",
    "\n",
    "print(\"+++++++++++++++++++++++\")\n",
    "m2=matrix('11,22,33;66 77 8;33,33,33')\n",
    "print(m2)\n",
    "print(\"+++++++++++++++++++++++\")\n",
    "print(\"Addition:\")\n",
    "print(m1+m2)\n",
    "print(\"------------------------\")\n",
    "print(\"Subtraction:\")\n",
    "print(m1-m2)\n",
    "print(\"***********************\")\n",
    "print(\"Multiplication:\")\n",
    "print(m1*m2)"
   ]
  },
  {
   "cell_type": "code",
   "execution_count": null,
   "metadata": {},
   "outputs": [],
   "source": []
  },
  {
   "cell_type": "code",
   "execution_count": null,
   "metadata": {},
   "outputs": [],
   "source": []
  },
  {
   "cell_type": "code",
   "execution_count": null,
   "metadata": {},
   "outputs": [],
   "source": []
  },
  {
   "cell_type": "code",
   "execution_count": null,
   "metadata": {},
   "outputs": [],
   "source": []
  }
 ],
 "metadata": {
  "kernelspec": {
   "display_name": "Python 3",
   "language": "python",
   "name": "python3"
  },
  "language_info": {
   "codemirror_mode": {
    "name": "ipython",
    "version": 3
   },
   "file_extension": ".py",
   "mimetype": "text/x-python",
   "name": "python",
   "nbconvert_exporter": "python",
   "pygments_lexer": "ipython3",
   "version": "3.7.3"
  }
 },
 "nbformat": 4,
 "nbformat_minor": 4
}
