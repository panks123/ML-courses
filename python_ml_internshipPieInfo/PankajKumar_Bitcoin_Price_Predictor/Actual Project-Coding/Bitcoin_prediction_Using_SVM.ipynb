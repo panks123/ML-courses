{
 "cells": [
  {
   "cell_type": "markdown",
   "metadata": {},
   "source": [
    "# S V M"
   ]
  },
  {
   "cell_type": "markdown",
   "metadata": {},
   "source": [
    "# Importing Libraries"
   ]
  },
  {
   "cell_type": "code",
   "execution_count": 30,
   "metadata": {},
   "outputs": [],
   "source": [
    "import yfinance as yf\n",
    "import matplotlib.pyplot as plt\n",
    "import numpy as np\n",
    "import pandas as pd"
   ]
  },
  {
   "cell_type": "markdown",
   "metadata": {},
   "source": [
    "# Including the dataset"
   ]
  },
  {
   "cell_type": "code",
   "execution_count": 2,
   "metadata": {
    "scrolled": true
   },
   "outputs": [
    {
     "name": "stdout",
     "output_type": "stream",
     "text": [
      "[*********************100%***********************]  1 of 1 completed\n"
     ]
    }
   ],
   "source": [
    "df=yf.download(\"BTC-USD\")"
   ]
  },
  {
   "cell_type": "code",
   "execution_count": 3,
   "metadata": {},
   "outputs": [
    {
     "data": {
      "text/html": [
       "<div>\n",
       "<style scoped>\n",
       "    .dataframe tbody tr th:only-of-type {\n",
       "        vertical-align: middle;\n",
       "    }\n",
       "\n",
       "    .dataframe tbody tr th {\n",
       "        vertical-align: top;\n",
       "    }\n",
       "\n",
       "    .dataframe thead th {\n",
       "        text-align: right;\n",
       "    }\n",
       "</style>\n",
       "<table border=\"1\" class=\"dataframe\">\n",
       "  <thead>\n",
       "    <tr style=\"text-align: right;\">\n",
       "      <th></th>\n",
       "      <th>Open</th>\n",
       "      <th>High</th>\n",
       "      <th>Low</th>\n",
       "      <th>Close</th>\n",
       "      <th>Adj Close</th>\n",
       "      <th>Volume</th>\n",
       "    </tr>\n",
       "    <tr>\n",
       "      <th>Date</th>\n",
       "      <th></th>\n",
       "      <th></th>\n",
       "      <th></th>\n",
       "      <th></th>\n",
       "      <th></th>\n",
       "      <th></th>\n",
       "    </tr>\n",
       "  </thead>\n",
       "  <tbody>\n",
       "    <tr>\n",
       "      <th>2014-09-17</th>\n",
       "      <td>465.864014</td>\n",
       "      <td>468.174011</td>\n",
       "      <td>452.421997</td>\n",
       "      <td>457.334015</td>\n",
       "      <td>457.334015</td>\n",
       "      <td>21056800</td>\n",
       "    </tr>\n",
       "    <tr>\n",
       "      <th>2014-09-18</th>\n",
       "      <td>456.859985</td>\n",
       "      <td>456.859985</td>\n",
       "      <td>413.104004</td>\n",
       "      <td>424.440002</td>\n",
       "      <td>424.440002</td>\n",
       "      <td>34483200</td>\n",
       "    </tr>\n",
       "    <tr>\n",
       "      <th>2014-09-19</th>\n",
       "      <td>424.102997</td>\n",
       "      <td>427.834991</td>\n",
       "      <td>384.532013</td>\n",
       "      <td>394.795990</td>\n",
       "      <td>394.795990</td>\n",
       "      <td>37919700</td>\n",
       "    </tr>\n",
       "    <tr>\n",
       "      <th>2014-09-20</th>\n",
       "      <td>394.673004</td>\n",
       "      <td>423.295990</td>\n",
       "      <td>389.882996</td>\n",
       "      <td>408.903992</td>\n",
       "      <td>408.903992</td>\n",
       "      <td>36863600</td>\n",
       "    </tr>\n",
       "    <tr>\n",
       "      <th>2014-09-21</th>\n",
       "      <td>408.084991</td>\n",
       "      <td>412.425995</td>\n",
       "      <td>393.181000</td>\n",
       "      <td>398.821014</td>\n",
       "      <td>398.821014</td>\n",
       "      <td>26580100</td>\n",
       "    </tr>\n",
       "  </tbody>\n",
       "</table>\n",
       "</div>"
      ],
      "text/plain": [
       "                  Open        High         Low       Close   Adj Close  \\\n",
       "Date                                                                     \n",
       "2014-09-17  465.864014  468.174011  452.421997  457.334015  457.334015   \n",
       "2014-09-18  456.859985  456.859985  413.104004  424.440002  424.440002   \n",
       "2014-09-19  424.102997  427.834991  384.532013  394.795990  394.795990   \n",
       "2014-09-20  394.673004  423.295990  389.882996  408.903992  408.903992   \n",
       "2014-09-21  408.084991  412.425995  393.181000  398.821014  398.821014   \n",
       "\n",
       "              Volume  \n",
       "Date                  \n",
       "2014-09-17  21056800  \n",
       "2014-09-18  34483200  \n",
       "2014-09-19  37919700  \n",
       "2014-09-20  36863600  \n",
       "2014-09-21  26580100  "
      ]
     },
     "execution_count": 3,
     "metadata": {},
     "output_type": "execute_result"
    }
   ],
   "source": [
    "# showing first 5 rows of data\n",
    "df.head()"
   ]
  },
  {
   "cell_type": "markdown",
   "metadata": {},
   "source": [
    "# Creating the usable data"
   ]
  },
  {
   "cell_type": "code",
   "execution_count": 4,
   "metadata": {},
   "outputs": [],
   "source": [
    "df.reset_index(inplace=True)"
   ]
  },
  {
   "cell_type": "code",
   "execution_count": 5,
   "metadata": {},
   "outputs": [
    {
     "data": {
      "text/html": [
       "<div>\n",
       "<style scoped>\n",
       "    .dataframe tbody tr th:only-of-type {\n",
       "        vertical-align: middle;\n",
       "    }\n",
       "\n",
       "    .dataframe tbody tr th {\n",
       "        vertical-align: top;\n",
       "    }\n",
       "\n",
       "    .dataframe thead th {\n",
       "        text-align: right;\n",
       "    }\n",
       "</style>\n",
       "<table border=\"1\" class=\"dataframe\">\n",
       "  <thead>\n",
       "    <tr style=\"text-align: right;\">\n",
       "      <th></th>\n",
       "      <th>Date</th>\n",
       "      <th>Close</th>\n",
       "    </tr>\n",
       "  </thead>\n",
       "  <tbody>\n",
       "    <tr>\n",
       "      <th>0</th>\n",
       "      <td>2014-09-17</td>\n",
       "      <td>457.334015</td>\n",
       "    </tr>\n",
       "    <tr>\n",
       "      <th>1</th>\n",
       "      <td>2014-09-18</td>\n",
       "      <td>424.440002</td>\n",
       "    </tr>\n",
       "    <tr>\n",
       "      <th>2</th>\n",
       "      <td>2014-09-19</td>\n",
       "      <td>394.795990</td>\n",
       "    </tr>\n",
       "    <tr>\n",
       "      <th>3</th>\n",
       "      <td>2014-09-20</td>\n",
       "      <td>408.903992</td>\n",
       "    </tr>\n",
       "    <tr>\n",
       "      <th>4</th>\n",
       "      <td>2014-09-21</td>\n",
       "      <td>398.821014</td>\n",
       "    </tr>\n",
       "  </tbody>\n",
       "</table>\n",
       "</div>"
      ],
      "text/plain": [
       "        Date       Close\n",
       "0 2014-09-17  457.334015\n",
       "1 2014-09-18  424.440002\n",
       "2 2014-09-19  394.795990\n",
       "3 2014-09-20  408.903992\n",
       "4 2014-09-21  398.821014"
      ]
     },
     "execution_count": 5,
     "metadata": {},
     "output_type": "execute_result"
    }
   ],
   "source": [
    "df=df[['Date','Close']]\n",
    "df1=df\n",
    "df.head()"
   ]
  },
  {
   "cell_type": "markdown",
   "metadata": {},
   "source": [
    "# Plotting the growth trend of bitcoin prices"
   ]
  },
  {
   "cell_type": "code",
   "execution_count": 6,
   "metadata": {},
   "outputs": [
    {
     "data": {
      "image/png": "[encoded data removed]",
      "text/plain": [
       "<Figure size 432x288 with 1 Axes>"
      ]
     },
     "metadata": {
      "needs_background": "light"
     },
     "output_type": "display_data"
    }
   ],
   "source": [
    "plt.title('Growth trend of Bitcoin Prices')\n",
    "plt.xlabel('Years')\n",
    "plt.ylabel('Price (in USD)')\n",
    "plt.plot(df['Date'],df['Close']);"
   ]
  },
  {
   "cell_type": "code",
   "execution_count": 7,
   "metadata": {},
   "outputs": [],
   "source": [
    "# Removing the 'Date' column \n",
    "df=df[['Close']]"
   ]
  },
  {
   "cell_type": "code",
   "execution_count": 8,
   "metadata": {},
   "outputs": [
    {
     "data": {
      "text/html": [
       "<div>\n",
       "<style scoped>\n",
       "    .dataframe tbody tr th:only-of-type {\n",
       "        vertical-align: middle;\n",
       "    }\n",
       "\n",
       "    .dataframe tbody tr th {\n",
       "        vertical-align: top;\n",
       "    }\n",
       "\n",
       "    .dataframe thead th {\n",
       "        text-align: right;\n",
       "    }\n",
       "</style>\n",
       "<table border=\"1\" class=\"dataframe\">\n",
       "  <thead>\n",
       "    <tr style=\"text-align: right;\">\n",
       "      <th></th>\n",
       "      <th>Close</th>\n",
       "    </tr>\n",
       "  </thead>\n",
       "  <tbody>\n",
       "    <tr>\n",
       "      <th>0</th>\n",
       "      <td>457.334015</td>\n",
       "    </tr>\n",
       "    <tr>\n",
       "      <th>1</th>\n",
       "      <td>424.440002</td>\n",
       "    </tr>\n",
       "    <tr>\n",
       "      <th>2</th>\n",
       "      <td>394.795990</td>\n",
       "    </tr>\n",
       "    <tr>\n",
       "      <th>3</th>\n",
       "      <td>408.903992</td>\n",
       "    </tr>\n",
       "    <tr>\n",
       "      <th>4</th>\n",
       "      <td>398.821014</td>\n",
       "    </tr>\n",
       "  </tbody>\n",
       "</table>\n",
       "</div>"
      ],
      "text/plain": [
       "        Close\n",
       "0  457.334015\n",
       "1  424.440002\n",
       "2  394.795990\n",
       "3  408.903992\n",
       "4  398.821014"
      ]
     },
     "execution_count": 8,
     "metadata": {},
     "output_type": "execute_result"
    }
   ],
   "source": [
    "df.head()"
   ]
  },
  {
   "cell_type": "code",
   "execution_count": 9,
   "metadata": {},
   "outputs": [
    {
     "data": {
      "text/html": [
       "<div>\n",
       "<style scoped>\n",
       "    .dataframe tbody tr th:only-of-type {\n",
       "        vertical-align: middle;\n",
       "    }\n",
       "\n",
       "    .dataframe tbody tr th {\n",
       "        vertical-align: top;\n",
       "    }\n",
       "\n",
       "    .dataframe thead th {\n",
       "        text-align: right;\n",
       "    }\n",
       "</style>\n",
       "<table border=\"1\" class=\"dataframe\">\n",
       "  <thead>\n",
       "    <tr style=\"text-align: right;\">\n",
       "      <th></th>\n",
       "      <th>Close</th>\n",
       "    </tr>\n",
       "  </thead>\n",
       "  <tbody>\n",
       "    <tr>\n",
       "      <th>count</th>\n",
       "      <td>2338.000000</td>\n",
       "    </tr>\n",
       "    <tr>\n",
       "      <th>mean</th>\n",
       "      <td>5523.803207</td>\n",
       "    </tr>\n",
       "    <tr>\n",
       "      <th>std</th>\n",
       "      <td>6482.178881</td>\n",
       "    </tr>\n",
       "    <tr>\n",
       "      <th>min</th>\n",
       "      <td>178.102997</td>\n",
       "    </tr>\n",
       "    <tr>\n",
       "      <th>25%</th>\n",
       "      <td>449.468491</td>\n",
       "    </tr>\n",
       "    <tr>\n",
       "      <th>50%</th>\n",
       "      <td>3963.192139</td>\n",
       "    </tr>\n",
       "    <tr>\n",
       "      <th>75%</th>\n",
       "      <td>8678.960938</td>\n",
       "    </tr>\n",
       "    <tr>\n",
       "      <th>max</th>\n",
       "      <td>47909.332031</td>\n",
       "    </tr>\n",
       "  </tbody>\n",
       "</table>\n",
       "</div>"
      ],
      "text/plain": [
       "              Close\n",
       "count   2338.000000\n",
       "mean    5523.803207\n",
       "std     6482.178881\n",
       "min      178.102997\n",
       "25%      449.468491\n",
       "50%     3963.192139\n",
       "75%     8678.960938\n",
       "max    47909.332031"
      ]
     },
     "execution_count": 9,
     "metadata": {},
     "output_type": "execute_result"
    }
   ],
   "source": [
    "# Statistical analysis\n",
    "df.describe()"
   ]
  },
  {
   "cell_type": "code",
   "execution_count": 10,
   "metadata": {},
   "outputs": [
    {
     "name": "stdout",
     "output_type": "stream",
     "text": [
      "<class 'pandas.core.frame.DataFrame'>\n",
      "RangeIndex: 2338 entries, 0 to 2337\n",
      "Data columns (total 1 columns):\n",
      " #   Column  Non-Null Count  Dtype  \n",
      "---  ------  --------------  -----  \n",
      " 0   Close   2338 non-null   float64\n",
      "dtypes: float64(1)\n",
      "memory usage: 18.3 KB\n"
     ]
    }
   ],
   "source": [
    "# Summary of the data\n",
    "df.info()"
   ]
  },
  {
   "cell_type": "code",
   "execution_count": 11,
   "metadata": {},
   "outputs": [],
   "source": [
    "# variable for predicting 'n' days out into the future , here n=30 days\n",
    "prediction_days=30"
   ]
  },
  {
   "cell_type": "code",
   "execution_count": 12,
   "metadata": {},
   "outputs": [],
   "source": [
    "# creating another column shifted 'n' units up\n",
    "df['Prediction']=df[['Close']].shift(-prediction_days)"
   ]
  },
  {
   "cell_type": "code",
   "execution_count": 13,
   "metadata": {},
   "outputs": [
    {
     "data": {
      "text/html": [
       "<div>\n",
       "<style scoped>\n",
       "    .dataframe tbody tr th:only-of-type {\n",
       "        vertical-align: middle;\n",
       "    }\n",
       "\n",
       "    .dataframe tbody tr th {\n",
       "        vertical-align: top;\n",
       "    }\n",
       "\n",
       "    .dataframe thead th {\n",
       "        text-align: right;\n",
       "    }\n",
       "</style>\n",
       "<table border=\"1\" class=\"dataframe\">\n",
       "  <thead>\n",
       "    <tr style=\"text-align: right;\">\n",
       "      <th></th>\n",
       "      <th>Close</th>\n",
       "      <th>Prediction</th>\n",
       "    </tr>\n",
       "  </thead>\n",
       "  <tbody>\n",
       "    <tr>\n",
       "      <th>0</th>\n",
       "      <td>457.334015</td>\n",
       "      <td>383.757996</td>\n",
       "    </tr>\n",
       "    <tr>\n",
       "      <th>1</th>\n",
       "      <td>424.440002</td>\n",
       "      <td>391.441986</td>\n",
       "    </tr>\n",
       "    <tr>\n",
       "      <th>2</th>\n",
       "      <td>394.795990</td>\n",
       "      <td>389.545990</td>\n",
       "    </tr>\n",
       "    <tr>\n",
       "      <th>3</th>\n",
       "      <td>408.903992</td>\n",
       "      <td>382.845001</td>\n",
       "    </tr>\n",
       "    <tr>\n",
       "      <th>4</th>\n",
       "      <td>398.821014</td>\n",
       "      <td>386.475006</td>\n",
       "    </tr>\n",
       "  </tbody>\n",
       "</table>\n",
       "</div>"
      ],
      "text/plain": [
       "        Close  Prediction\n",
       "0  457.334015  383.757996\n",
       "1  424.440002  391.441986\n",
       "2  394.795990  389.545990\n",
       "3  408.903992  382.845001\n",
       "4  398.821014  386.475006"
      ]
     },
     "execution_count": 13,
     "metadata": {},
     "output_type": "execute_result"
    }
   ],
   "source": [
    "# showing first 5 rows of data\n",
    "df.head()"
   ]
  },
  {
   "cell_type": "code",
   "execution_count": 14,
   "metadata": {},
   "outputs": [
    {
     "data": {
      "text/html": [
       "<div>\n",
       "<style scoped>\n",
       "    .dataframe tbody tr th:only-of-type {\n",
       "        vertical-align: middle;\n",
       "    }\n",
       "\n",
       "    .dataframe tbody tr th {\n",
       "        vertical-align: top;\n",
       "    }\n",
       "\n",
       "    .dataframe thead th {\n",
       "        text-align: right;\n",
       "    }\n",
       "</style>\n",
       "<table border=\"1\" class=\"dataframe\">\n",
       "  <thead>\n",
       "    <tr style=\"text-align: right;\">\n",
       "      <th></th>\n",
       "      <th>Close</th>\n",
       "      <th>Prediction</th>\n",
       "    </tr>\n",
       "  </thead>\n",
       "  <tbody>\n",
       "    <tr>\n",
       "      <th>2331</th>\n",
       "      <td>38903.441406</td>\n",
       "      <td>NaN</td>\n",
       "    </tr>\n",
       "    <tr>\n",
       "      <th>2332</th>\n",
       "      <td>46196.464844</td>\n",
       "      <td>NaN</td>\n",
       "    </tr>\n",
       "    <tr>\n",
       "      <th>2333</th>\n",
       "      <td>46481.105469</td>\n",
       "      <td>NaN</td>\n",
       "    </tr>\n",
       "    <tr>\n",
       "      <th>2334</th>\n",
       "      <td>44918.183594</td>\n",
       "      <td>NaN</td>\n",
       "    </tr>\n",
       "    <tr>\n",
       "      <th>2335</th>\n",
       "      <td>47909.332031</td>\n",
       "      <td>NaN</td>\n",
       "    </tr>\n",
       "    <tr>\n",
       "      <th>2336</th>\n",
       "      <td>47504.851562</td>\n",
       "      <td>NaN</td>\n",
       "    </tr>\n",
       "    <tr>\n",
       "      <th>2337</th>\n",
       "      <td>47127.289062</td>\n",
       "      <td>NaN</td>\n",
       "    </tr>\n",
       "  </tbody>\n",
       "</table>\n",
       "</div>"
      ],
      "text/plain": [
       "             Close  Prediction\n",
       "2331  38903.441406         NaN\n",
       "2332  46196.464844         NaN\n",
       "2333  46481.105469         NaN\n",
       "2334  44918.183594         NaN\n",
       "2335  47909.332031         NaN\n",
       "2336  47504.851562         NaN\n",
       "2337  47127.289062         NaN"
      ]
     },
     "execution_count": 14,
     "metadata": {},
     "output_type": "execute_result"
    }
   ],
   "source": [
    "# showing last 7 rows of data\n",
    "df.tail(7)"
   ]
  },
  {
   "cell_type": "code",
   "execution_count": 15,
   "metadata": {},
   "outputs": [],
   "source": [
    "# Creating the independent dataset\n",
    "X=np.array(df.drop(['Prediction'],1))"
   ]
  },
  {
   "cell_type": "code",
   "execution_count": 16,
   "metadata": {},
   "outputs": [
    {
     "data": {
      "text/plain": [
       "array([[  457.33401489],\n",
       "       [  424.44000244],\n",
       "       [  394.79598999],\n",
       "       ...,\n",
       "       [33922.9609375 ],\n",
       "       [37316.359375  ],\n",
       "       [39187.328125  ]])"
      ]
     },
     "execution_count": 16,
     "metadata": {},
     "output_type": "execute_result"
    }
   ],
   "source": [
    "# Removing the last 'n' rows\n",
    "X=X[:len(df)-prediction_days]\n",
    "X"
   ]
  },
  {
   "cell_type": "code",
   "execution_count": 17,
   "metadata": {},
   "outputs": [
    {
     "data": {
      "text/plain": [
       "array([  383.75799561,   391.44198608,   389.54598999, ...,\n",
       "       47909.33203125, 47504.8515625 , 47127.2890625 ])"
      ]
     },
     "execution_count": 17,
     "metadata": {},
     "output_type": "execute_result"
    }
   ],
   "source": [
    "# Creating the dependent dataset\n",
    "Y=np.array(df['Prediction'])\n",
    "Y=Y[:-prediction_days]\n",
    "Y"
   ]
  },
  {
   "cell_type": "markdown",
   "metadata": {},
   "source": [
    "# Splitting into Training and Testing data"
   ]
  },
  {
   "cell_type": "code",
   "execution_count": 18,
   "metadata": {},
   "outputs": [],
   "source": [
    "from sklearn.model_selection import train_test_split\n",
    "\n",
    "# split the data into 80% training data, 20% testing data\n",
    "x_train,x_test,y_train,y_test=train_test_split(X,Y,test_size=0.2)"
   ]
  },
  {
   "cell_type": "code",
   "execution_count": 19,
   "metadata": {},
   "outputs": [
    {
     "data": {
      "text/plain": [
       "array([[36825.3671875 ],\n",
       "       [36178.140625  ],\n",
       "       [35791.27734375],\n",
       "       [36630.07421875],\n",
       "       [36069.8046875 ],\n",
       "       [35547.75      ],\n",
       "       [30825.69921875],\n",
       "       [33005.76171875],\n",
       "       [32067.64257812],\n",
       "       [32289.37890625],\n",
       "       [32366.39257812],\n",
       "       [32569.84960938],\n",
       "       [30432.546875  ],\n",
       "       [31649.60546875],\n",
       "       [34316.38671875],\n",
       "       [34269.5234375 ],\n",
       "       [33114.359375  ],\n",
       "       [33537.17578125],\n",
       "       [35510.2890625 ],\n",
       "       [37472.08984375],\n",
       "       [36926.06640625],\n",
       "       [38144.30859375],\n",
       "       [39266.01171875],\n",
       "       [38903.44140625],\n",
       "       [46196.46484375],\n",
       "       [46481.10546875],\n",
       "       [44918.18359375],\n",
       "       [47909.33203125],\n",
       "       [47504.8515625 ],\n",
       "       [47127.2890625 ]])"
      ]
     },
     "execution_count": 19,
     "metadata": {},
     "output_type": "execute_result"
    }
   ],
   "source": [
    "prediction_days_array=np.array(df.drop(['Prediction'],1))[-prediction_days:]\n",
    "prediction_days_array"
   ]
  },
  {
   "cell_type": "markdown",
   "metadata": {},
   "source": [
    "# Model selection : SVM"
   ]
  },
  {
   "cell_type": "code",
   "execution_count": 20,
   "metadata": {},
   "outputs": [
    {
     "data": {
      "text/plain": [
       "SVR(C=1000.0, gamma=1e-05)"
      ]
     },
     "execution_count": 20,
     "metadata": {},
     "output_type": "execute_result"
    }
   ],
   "source": [
    "from sklearn.svm import SVR\n",
    "\n",
    "# Creating and training the support vector machine (Regression) model using radial basis function\n",
    "svr_rbf=SVR(kernel='rbf',C=1e3,gamma=0.00001)\n",
    "svr_rbf.fit(x_train,y_train)"
   ]
  },
  {
   "cell_type": "code",
   "execution_count": 21,
   "metadata": {},
   "outputs": [],
   "source": [
    "# Testing the model\n",
    "svr_rbf_confidence=svr_rbf.score(x_test,y_test)"
   ]
  },
  {
   "cell_type": "markdown",
   "metadata": {},
   "source": [
    "# Accuracy score"
   ]
  },
  {
   "cell_type": "code",
   "execution_count": 22,
   "metadata": {},
   "outputs": [
    {
     "name": "stdout",
     "output_type": "stream",
     "text": [
      "Accuracy is: 61.51 %\n"
     ]
    }
   ],
   "source": [
    "print(\"Accuracy is: %.2f\"%(svr_rbf_confidence*100),\"%\")"
   ]
  },
  {
   "cell_type": "code",
   "execution_count": 23,
   "metadata": {},
   "outputs": [],
   "source": [
    "# Printing the predicted values of the test data\n",
    "svm_prediction=svr_rbf.predict(x_test)\n",
    "# print(svm_prediction)\n",
    "# print()\n",
    "# Printing the actual values of the test data\n",
    "# print(y_test)"
   ]
  },
  {
   "cell_type": "code",
   "execution_count": 24,
   "metadata": {},
   "outputs": [
    {
     "data": {
      "text/html": [
       "<div>\n",
       "<style scoped>\n",
       "    .dataframe tbody tr th:only-of-type {\n",
       "        vertical-align: middle;\n",
       "    }\n",
       "\n",
       "    .dataframe tbody tr th {\n",
       "        vertical-align: top;\n",
       "    }\n",
       "\n",
       "    .dataframe thead th {\n",
       "        text-align: right;\n",
       "    }\n",
       "</style>\n",
       "<table border=\"1\" class=\"dataframe\">\n",
       "  <thead>\n",
       "    <tr style=\"text-align: right;\">\n",
       "      <th></th>\n",
       "      <th>Actual Test data</th>\n",
       "      <th>Prediction</th>\n",
       "    </tr>\n",
       "  </thead>\n",
       "  <tbody>\n",
       "    <tr>\n",
       "      <th>0</th>\n",
       "      <td>4970.788086</td>\n",
       "      <td>8442.795251</td>\n",
       "    </tr>\n",
       "    <tr>\n",
       "      <th>1</th>\n",
       "      <td>9743.860352</td>\n",
       "      <td>7327.172072</td>\n",
       "    </tr>\n",
       "    <tr>\n",
       "      <th>2</th>\n",
       "      <td>217.464005</td>\n",
       "      <td>268.929565</td>\n",
       "    </tr>\n",
       "    <tr>\n",
       "      <th>3</th>\n",
       "      <td>756.773987</td>\n",
       "      <td>805.744412</td>\n",
       "    </tr>\n",
       "    <tr>\n",
       "      <th>4</th>\n",
       "      <td>6476.290039</td>\n",
       "      <td>6210.387171</td>\n",
       "    </tr>\n",
       "    <tr>\n",
       "      <th>...</th>\n",
       "      <td>...</td>\n",
       "      <td>...</td>\n",
       "    </tr>\n",
       "    <tr>\n",
       "      <th>457</th>\n",
       "      <td>444.687012</td>\n",
       "      <td>449.945865</td>\n",
       "    </tr>\n",
       "    <tr>\n",
       "      <th>458</th>\n",
       "      <td>3905.227295</td>\n",
       "      <td>3891.051657</td>\n",
       "    </tr>\n",
       "    <tr>\n",
       "      <th>459</th>\n",
       "      <td>315.032013</td>\n",
       "      <td>370.722597</td>\n",
       "    </tr>\n",
       "    <tr>\n",
       "      <th>460</th>\n",
       "      <td>284.894012</td>\n",
       "      <td>263.550969</td>\n",
       "    </tr>\n",
       "    <tr>\n",
       "      <th>461</th>\n",
       "      <td>8441.490234</td>\n",
       "      <td>9365.659735</td>\n",
       "    </tr>\n",
       "  </tbody>\n",
       "</table>\n",
       "<p>462 rows × 2 columns</p>\n",
       "</div>"
      ],
      "text/plain": [
       "     Actual Test data   Prediction\n",
       "0         4970.788086  8442.795251\n",
       "1         9743.860352  7327.172072\n",
       "2          217.464005   268.929565\n",
       "3          756.773987   805.744412\n",
       "4         6476.290039  6210.387171\n",
       "..                ...          ...\n",
       "457        444.687012   449.945865\n",
       "458       3905.227295  3891.051657\n",
       "459        315.032013   370.722597\n",
       "460        284.894012   263.550969\n",
       "461       8441.490234  9365.659735\n",
       "\n",
       "[462 rows x 2 columns]"
      ]
     },
     "execution_count": 24,
     "metadata": {},
     "output_type": "execute_result"
    }
   ],
   "source": [
    "# creating data frame containing the actual test data and correspondinding predicted value\n",
    "test_data_prediction={}\n",
    "test_data_prediction['Actual Test data']=y_test\n",
    "test_data_prediction['Prediction']=svm_prediction\n",
    "testDataPrediction=pd.DataFrame(test_data_prediction)\n",
    "testDataPrediction"
   ]
  },
  {
   "cell_type": "code",
   "execution_count": 25,
   "metadata": {},
   "outputs": [
    {
     "data": {
      "image/png": "[encoded data removed]",
      "text/plain": [
       "<Figure size 432x288 with 1 Axes>"
      ]
     },
     "metadata": {
      "needs_background": "light"
     },
     "output_type": "display_data"
    }
   ],
   "source": [
    "# Comparing the predictions of test data\n",
    "plt.title('Bitcoin prediction - Using SVM (Comparing test data)')\n",
    "plt.xlabel('Days')\n",
    "plt.ylabel('Price (in USD)')\n",
    "plt.plot(svm_prediction)\n",
    "\n",
    "plt.plot(y_test);\n",
    "plt.legend(['Prediction','Actual']);"
   ]
  },
  {
   "cell_type": "code",
   "execution_count": 26,
   "metadata": {},
   "outputs": [
    {
     "name": "stdout",
     "output_type": "stream",
     "text": [
      "Predicted Price of last 30 days:  [10664.23598096  9589.85821626  9574.5197701  10269.08778928\n",
      "  9577.86427182  9574.49668391  9574.49664496 10181.11557567\n",
      " 10545.64577458 10431.69417117 10316.73061958 10353.04085733\n",
      "  9574.51024864  9676.61886541  9574.49660039  9574.49660058\n",
      "  9905.94116445  9577.83404469  9574.496632   10374.60938437\n",
      " 10694.22538009 10213.19569851 10514.77536302 10071.35733083\n",
      "  9574.49660033  9574.49660033  9574.49660033  9574.49660033\n",
      "  9574.49660033  9574.49660033]\n",
      "\n",
      "Actual values of last 30 days:  [36825.3671875  36178.140625   35791.27734375 36630.07421875\n",
      " 36069.8046875  35547.75       30825.69921875 33005.76171875\n",
      " 32067.64257812 32289.37890625 32366.39257812 32569.84960938\n",
      " 30432.546875   31649.60546875 34316.38671875 34269.5234375\n",
      " 33114.359375   33537.17578125 35510.2890625  37472.08984375\n",
      " 36926.06640625 38144.30859375 39266.01171875 38903.44140625\n",
      " 46196.46484375 46481.10546875 44918.18359375 47909.33203125\n",
      " 47504.8515625  47127.2890625 ]\n"
     ]
    }
   ],
   "source": [
    "# Printing the model predictions for next 30 days\n",
    "svm_prediction=svr_rbf.predict(prediction_days_array)\n",
    "print(\"Predicted Price of last 30 days: \",svm_prediction)\n",
    "print()\n",
    "print(\"Actual values of last 30 days: \",np.array(df['Close'][-prediction_days:]))"
   ]
  },
  {
   "cell_type": "code",
   "execution_count": 27,
   "metadata": {},
   "outputs": [],
   "source": [
    "# Creating dictionary with keys: 'Actual' and 'Predicted' values for the next 30 days\n",
    "data={}\n",
    "data['Date']=list(df1['Date'][-prediction_days:])\n",
    "data['Actual']=list(df['Close'][-prediction_days:])\n",
    "data['Prediction']=list(svm_prediction)\n"
   ]
  },
  {
   "cell_type": "code",
   "execution_count": 28,
   "metadata": {},
   "outputs": [
    {
     "data": {
      "text/html": [
       "<div>\n",
       "<style scoped>\n",
       "    .dataframe tbody tr th:only-of-type {\n",
       "        vertical-align: middle;\n",
       "    }\n",
       "\n",
       "    .dataframe tbody tr th {\n",
       "        vertical-align: top;\n",
       "    }\n",
       "\n",
       "    .dataframe thead th {\n",
       "        text-align: right;\n",
       "    }\n",
       "</style>\n",
       "<table border=\"1\" class=\"dataframe\">\n",
       "  <thead>\n",
       "    <tr style=\"text-align: right;\">\n",
       "      <th></th>\n",
       "      <th>Date</th>\n",
       "      <th>Actual</th>\n",
       "      <th>Prediction</th>\n",
       "    </tr>\n",
       "  </thead>\n",
       "  <tbody>\n",
       "    <tr>\n",
       "      <th>0</th>\n",
       "      <td>2021-01-15</td>\n",
       "      <td>36825.367188</td>\n",
       "      <td>10664.235981</td>\n",
       "    </tr>\n",
       "    <tr>\n",
       "      <th>1</th>\n",
       "      <td>2021-01-16</td>\n",
       "      <td>36178.140625</td>\n",
       "      <td>9589.858216</td>\n",
       "    </tr>\n",
       "    <tr>\n",
       "      <th>2</th>\n",
       "      <td>2021-01-17</td>\n",
       "      <td>35791.277344</td>\n",
       "      <td>9574.519770</td>\n",
       "    </tr>\n",
       "    <tr>\n",
       "      <th>3</th>\n",
       "      <td>2021-01-18</td>\n",
       "      <td>36630.074219</td>\n",
       "      <td>10269.087789</td>\n",
       "    </tr>\n",
       "    <tr>\n",
       "      <th>4</th>\n",
       "      <td>2021-01-19</td>\n",
       "      <td>36069.804688</td>\n",
       "      <td>9577.864272</td>\n",
       "    </tr>\n",
       "    <tr>\n",
       "      <th>5</th>\n",
       "      <td>2021-01-20</td>\n",
       "      <td>35547.750000</td>\n",
       "      <td>9574.496684</td>\n",
       "    </tr>\n",
       "    <tr>\n",
       "      <th>6</th>\n",
       "      <td>2021-01-21</td>\n",
       "      <td>30825.699219</td>\n",
       "      <td>9574.496645</td>\n",
       "    </tr>\n",
       "    <tr>\n",
       "      <th>7</th>\n",
       "      <td>2021-01-22</td>\n",
       "      <td>33005.761719</td>\n",
       "      <td>10181.115576</td>\n",
       "    </tr>\n",
       "    <tr>\n",
       "      <th>8</th>\n",
       "      <td>2021-01-23</td>\n",
       "      <td>32067.642578</td>\n",
       "      <td>10545.645775</td>\n",
       "    </tr>\n",
       "    <tr>\n",
       "      <th>9</th>\n",
       "      <td>2021-01-24</td>\n",
       "      <td>32289.378906</td>\n",
       "      <td>10431.694171</td>\n",
       "    </tr>\n",
       "    <tr>\n",
       "      <th>10</th>\n",
       "      <td>2021-01-25</td>\n",
       "      <td>32366.392578</td>\n",
       "      <td>10316.730620</td>\n",
       "    </tr>\n",
       "    <tr>\n",
       "      <th>11</th>\n",
       "      <td>2021-01-26</td>\n",
       "      <td>32569.849609</td>\n",
       "      <td>10353.040857</td>\n",
       "    </tr>\n",
       "    <tr>\n",
       "      <th>12</th>\n",
       "      <td>2021-01-27</td>\n",
       "      <td>30432.546875</td>\n",
       "      <td>9574.510249</td>\n",
       "    </tr>\n",
       "    <tr>\n",
       "      <th>13</th>\n",
       "      <td>2021-01-28</td>\n",
       "      <td>31649.605469</td>\n",
       "      <td>9676.618865</td>\n",
       "    </tr>\n",
       "    <tr>\n",
       "      <th>14</th>\n",
       "      <td>2021-01-29</td>\n",
       "      <td>34316.386719</td>\n",
       "      <td>9574.496600</td>\n",
       "    </tr>\n",
       "    <tr>\n",
       "      <th>15</th>\n",
       "      <td>2021-01-30</td>\n",
       "      <td>34269.523438</td>\n",
       "      <td>9574.496601</td>\n",
       "    </tr>\n",
       "    <tr>\n",
       "      <th>16</th>\n",
       "      <td>2021-01-31</td>\n",
       "      <td>33114.359375</td>\n",
       "      <td>9905.941164</td>\n",
       "    </tr>\n",
       "    <tr>\n",
       "      <th>17</th>\n",
       "      <td>2021-02-01</td>\n",
       "      <td>33537.175781</td>\n",
       "      <td>9577.834045</td>\n",
       "    </tr>\n",
       "    <tr>\n",
       "      <th>18</th>\n",
       "      <td>2021-02-02</td>\n",
       "      <td>35510.289062</td>\n",
       "      <td>9574.496632</td>\n",
       "    </tr>\n",
       "    <tr>\n",
       "      <th>19</th>\n",
       "      <td>2021-02-03</td>\n",
       "      <td>37472.089844</td>\n",
       "      <td>10374.609384</td>\n",
       "    </tr>\n",
       "    <tr>\n",
       "      <th>20</th>\n",
       "      <td>2021-02-04</td>\n",
       "      <td>36926.066406</td>\n",
       "      <td>10694.225380</td>\n",
       "    </tr>\n",
       "    <tr>\n",
       "      <th>21</th>\n",
       "      <td>2021-02-05</td>\n",
       "      <td>38144.308594</td>\n",
       "      <td>10213.195699</td>\n",
       "    </tr>\n",
       "    <tr>\n",
       "      <th>22</th>\n",
       "      <td>2021-02-06</td>\n",
       "      <td>39266.011719</td>\n",
       "      <td>10514.775363</td>\n",
       "    </tr>\n",
       "    <tr>\n",
       "      <th>23</th>\n",
       "      <td>2021-02-07</td>\n",
       "      <td>38903.441406</td>\n",
       "      <td>10071.357331</td>\n",
       "    </tr>\n",
       "    <tr>\n",
       "      <th>24</th>\n",
       "      <td>2021-02-08</td>\n",
       "      <td>46196.464844</td>\n",
       "      <td>9574.496600</td>\n",
       "    </tr>\n",
       "    <tr>\n",
       "      <th>25</th>\n",
       "      <td>2021-02-09</td>\n",
       "      <td>46481.105469</td>\n",
       "      <td>9574.496600</td>\n",
       "    </tr>\n",
       "    <tr>\n",
       "      <th>26</th>\n",
       "      <td>2021-02-10</td>\n",
       "      <td>44918.183594</td>\n",
       "      <td>9574.496600</td>\n",
       "    </tr>\n",
       "    <tr>\n",
       "      <th>27</th>\n",
       "      <td>2021-02-11</td>\n",
       "      <td>47909.332031</td>\n",
       "      <td>9574.496600</td>\n",
       "    </tr>\n",
       "    <tr>\n",
       "      <th>28</th>\n",
       "      <td>2021-02-12</td>\n",
       "      <td>47504.851562</td>\n",
       "      <td>9574.496600</td>\n",
       "    </tr>\n",
       "    <tr>\n",
       "      <th>29</th>\n",
       "      <td>2021-02-13</td>\n",
       "      <td>47127.289062</td>\n",
       "      <td>9574.496600</td>\n",
       "    </tr>\n",
       "  </tbody>\n",
       "</table>\n",
       "</div>"
      ],
      "text/plain": [
       "         Date        Actual    Prediction\n",
       "0  2021-01-15  36825.367188  10664.235981\n",
       "1  2021-01-16  36178.140625   9589.858216\n",
       "2  2021-01-17  35791.277344   9574.519770\n",
       "3  2021-01-18  36630.074219  10269.087789\n",
       "4  2021-01-19  36069.804688   9577.864272\n",
       "5  2021-01-20  35547.750000   9574.496684\n",
       "6  2021-01-21  30825.699219   9574.496645\n",
       "7  2021-01-22  33005.761719  10181.115576\n",
       "8  2021-01-23  32067.642578  10545.645775\n",
       "9  2021-01-24  32289.378906  10431.694171\n",
       "10 2021-01-25  32366.392578  10316.730620\n",
       "11 2021-01-26  32569.849609  10353.040857\n",
       "12 2021-01-27  30432.546875   9574.510249\n",
       "13 2021-01-28  31649.605469   9676.618865\n",
       "14 2021-01-29  34316.386719   9574.496600\n",
       "15 2021-01-30  34269.523438   9574.496601\n",
       "16 2021-01-31  33114.359375   9905.941164\n",
       "17 2021-02-01  33537.175781   9577.834045\n",
       "18 2021-02-02  35510.289062   9574.496632\n",
       "19 2021-02-03  37472.089844  10374.609384\n",
       "20 2021-02-04  36926.066406  10694.225380\n",
       "21 2021-02-05  38144.308594  10213.195699\n",
       "22 2021-02-06  39266.011719  10514.775363\n",
       "23 2021-02-07  38903.441406  10071.357331\n",
       "24 2021-02-08  46196.464844   9574.496600\n",
       "25 2021-02-09  46481.105469   9574.496600\n",
       "26 2021-02-10  44918.183594   9574.496600\n",
       "27 2021-02-11  47909.332031   9574.496600\n",
       "28 2021-02-12  47504.851562   9574.496600\n",
       "29 2021-02-13  47127.289062   9574.496600"
      ]
     },
     "execution_count": 28,
     "metadata": {},
     "output_type": "execute_result"
    }
   ],
   "source": [
    "# Creating DataFrame for 'Actual' and 'Predicted' values for the next 30 days\n",
    "result_df_30days=pd.DataFrame(data)\n",
    "result_df_30days"
   ]
  },
  {
   "cell_type": "code",
   "execution_count": 29,
   "metadata": {},
   "outputs": [
    {
     "data": {
      "image/png": "[encoded data removed]",
      "text/plain": [
       "<Figure size 432x288 with 1 Axes>"
      ]
     },
     "metadata": {
      "needs_background": "light"
     },
     "output_type": "display_data"
    }
   ],
   "source": [
    "# Comparison plot for comparing 'Actual' and 'Predicted' values\n",
    "plt.title('Bitcoin prediction - Using SVM')\n",
    "plt.xlabel('Last 30 days')\n",
    "plt.ylabel('Price (in USD)')\n",
    "plt.plot(result_df_30days['Prediction'])\n",
    "\n",
    "plt.plot(result_df_30days['Actual']);\n",
    "plt.legend(['Prediction','Actual']);"
   ]
  },
  {
   "cell_type": "code",
   "execution_count": null,
   "metadata": {},
   "outputs": [],
   "source": []
  }
 ],
 "metadata": {
  "kernelspec": {
   "display_name": "Python 3",
   "language": "python",
   "name": "python3"
  },
  "language_info": {
   "codemirror_mode": {
    "name": "ipython",
    "version": 3
   },
   "file_extension": ".py",
   "mimetype": "text/x-python",
   "name": "python",
   "nbconvert_exporter": "python",
   "pygments_lexer": "ipython3",
   "version": "3.7.3"
  }
 },
 "nbformat": 4,
 "nbformat_minor": 4
}
