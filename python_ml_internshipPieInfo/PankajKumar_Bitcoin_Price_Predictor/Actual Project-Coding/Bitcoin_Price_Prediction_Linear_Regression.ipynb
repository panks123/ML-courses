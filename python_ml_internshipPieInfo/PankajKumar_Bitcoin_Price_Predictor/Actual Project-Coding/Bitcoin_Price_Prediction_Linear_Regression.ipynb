{
 "cells": [
  {
   "cell_type": "markdown",
   "metadata": {},
   "source": [
    "# Linear Regression"
   ]
  },
  {
   "cell_type": "markdown",
   "metadata": {},
   "source": [
    "# Importing Libraries"
   ]
  },
  {
   "cell_type": "code",
   "execution_count": 1,
   "metadata": {},
   "outputs": [],
   "source": [
    "import pandas as pd\n",
    "import numpy as np\n",
    "import datetime\n",
    "from sklearn.linear_model import LinearRegression\n",
    "from sklearn import preprocessing, svm\n",
    "import yfinance as yf\n",
    "import matplotlib.pyplot as plt"
   ]
  },
  {
   "cell_type": "markdown",
   "metadata": {},
   "source": [
    "# Including the dataset"
   ]
  },
  {
   "cell_type": "code",
   "execution_count": 2,
   "metadata": {},
   "outputs": [
    {
     "name": "stdout",
     "output_type": "stream",
     "text": [
      "[*********************100%***********************]  1 of 1 completed\n"
     ]
    }
   ],
   "source": [
    "df=yf.download(\"BTC-USD\")"
   ]
  },
  {
   "cell_type": "code",
   "execution_count": 3,
   "metadata": {},
   "outputs": [
    {
     "data": {
      "text/html": [
       "<div>\n",
       "<style scoped>\n",
       "    .dataframe tbody tr th:only-of-type {\n",
       "        vertical-align: middle;\n",
       "    }\n",
       "\n",
       "    .dataframe tbody tr th {\n",
       "        vertical-align: top;\n",
       "    }\n",
       "\n",
       "    .dataframe thead th {\n",
       "        text-align: right;\n",
       "    }\n",
       "</style>\n",
       "<table border=\"1\" class=\"dataframe\">\n",
       "  <thead>\n",
       "    <tr style=\"text-align: right;\">\n",
       "      <th></th>\n",
       "      <th>Date</th>\n",
       "      <th>Close</th>\n",
       "    </tr>\n",
       "  </thead>\n",
       "  <tbody>\n",
       "    <tr>\n",
       "      <th>0</th>\n",
       "      <td>2014-09-17</td>\n",
       "      <td>457.334015</td>\n",
       "    </tr>\n",
       "    <tr>\n",
       "      <th>1</th>\n",
       "      <td>2014-09-18</td>\n",
       "      <td>424.440002</td>\n",
       "    </tr>\n",
       "    <tr>\n",
       "      <th>2</th>\n",
       "      <td>2014-09-19</td>\n",
       "      <td>394.795990</td>\n",
       "    </tr>\n",
       "    <tr>\n",
       "      <th>3</th>\n",
       "      <td>2014-09-20</td>\n",
       "      <td>408.903992</td>\n",
       "    </tr>\n",
       "    <tr>\n",
       "      <th>4</th>\n",
       "      <td>2014-09-21</td>\n",
       "      <td>398.821014</td>\n",
       "    </tr>\n",
       "  </tbody>\n",
       "</table>\n",
       "</div>"
      ],
      "text/plain": [
       "        Date       Close\n",
       "0 2014-09-17  457.334015\n",
       "1 2014-09-18  424.440002\n",
       "2 2014-09-19  394.795990\n",
       "3 2014-09-20  408.903992\n",
       "4 2014-09-21  398.821014"
      ]
     },
     "execution_count": 3,
     "metadata": {},
     "output_type": "execute_result"
    }
   ],
   "source": [
    "df.reset_index(inplace=True)\n",
    "df=df[['Date','Close']]\n",
    "df1=df\n",
    "# showing first 5 rows of data\n",
    "df.head()"
   ]
  },
  {
   "cell_type": "markdown",
   "metadata": {},
   "source": [
    "# Plotting the growth trend of bitcoin prices"
   ]
  },
  {
   "cell_type": "code",
   "execution_count": 4,
   "metadata": {},
   "outputs": [
    {
     "data": {
      "image/png": "[encoded data removed]",
      "text/plain": [
       "<Figure size 432x288 with 1 Axes>"
      ]
     },
     "metadata": {
      "needs_background": "light"
     },
     "output_type": "display_data"
    }
   ],
   "source": [
    "plt.title('Growth trend of Bitcoin Prices')\n",
    "plt.xlabel('Years')\n",
    "plt.ylabel('Price (in USD)')\n",
    "plt.plot(df['Date'],df['Close']);"
   ]
  },
  {
   "cell_type": "markdown",
   "metadata": {},
   "source": [
    "# Creating the usable data"
   ]
  },
  {
   "cell_type": "code",
   "execution_count": 5,
   "metadata": {},
   "outputs": [],
   "source": [
    "# Removing the 'Date' column \n",
    "df = df[['Close']]"
   ]
  },
  {
   "cell_type": "code",
   "execution_count": 6,
   "metadata": {},
   "outputs": [],
   "source": [
    "# variable for predicting 'n' days out into the future , here n=30 days\n",
    "forecast_out = int(30)"
   ]
  },
  {
   "cell_type": "code",
   "execution_count": 7,
   "metadata": {},
   "outputs": [],
   "source": [
    "# creating another column shifted 'n' units up\n",
    "df['Prediction'] = df[['Close']].shift(-forecast_out)"
   ]
  },
  {
   "cell_type": "code",
   "execution_count": 8,
   "metadata": {},
   "outputs": [],
   "source": [
    "# Creating the independent dataset\n",
    "X = np.array(df.drop(['Prediction'],1))\n",
    "X = preprocessing.scale(X)"
   ]
  },
  {
   "cell_type": "code",
   "execution_count": 9,
   "metadata": {},
   "outputs": [],
   "source": [
    "X_forecast = X[-forecast_out:]\n",
    "X = X[:-forecast_out]"
   ]
  },
  {
   "cell_type": "code",
   "execution_count": 10,
   "metadata": {},
   "outputs": [],
   "source": [
    "# Creating the dependent dataset\n",
    "y = np.array(df['Prediction'])\n",
    "y = y[:-forecast_out]"
   ]
  },
  {
   "cell_type": "code",
   "execution_count": 11,
   "metadata": {},
   "outputs": [],
   "source": [
    "# Splitting into Training and Testing Data"
   ]
  },
  {
   "cell_type": "code",
   "execution_count": 12,
   "metadata": {},
   "outputs": [],
   "source": [
    "from sklearn.model_selection import train_test_split\n",
    "\n",
    "# split the data into 80% training data, 20% testing data\n",
    "X_train, X_test, y_train, y_test = train_test_split(X, y, test_size = 0.2)"
   ]
  },
  {
   "cell_type": "markdown",
   "metadata": {},
   "source": [
    "# Model selection : Linear Regression"
   ]
  },
  {
   "cell_type": "code",
   "execution_count": 13,
   "metadata": {},
   "outputs": [
    {
     "data": {
      "text/plain": [
       "LinearRegression()"
      ]
     },
     "execution_count": 13,
     "metadata": {},
     "output_type": "execute_result"
    }
   ],
   "source": [
    "# Creating and training the Linear Regression model\n",
    "clf = LinearRegression()\n",
    "clf.fit(X_train,y_train)"
   ]
  },
  {
   "cell_type": "markdown",
   "metadata": {},
   "source": [
    "# Accuracy score"
   ]
  },
  {
   "cell_type": "code",
   "execution_count": 14,
   "metadata": {},
   "outputs": [
    {
     "name": "stdout",
     "output_type": "stream",
     "text": [
      "Accuracy is: 88.65 %\n"
     ]
    }
   ],
   "source": [
    "# Testing the model\n",
    "confidence = clf.score(X_test, y_test)\n",
    "print(\"Accuracy is: %.2f\"%(confidence*100),\"%\")"
   ]
  },
  {
   "cell_type": "code",
   "execution_count": 15,
   "metadata": {},
   "outputs": [],
   "source": [
    "# Printing the predicted values of the test data\n",
    "linear_regr_prediction=clf.predict(X_test)\n",
    "# print(linear_regr_prediction)\n",
    "# print()\n",
    "# Printing the actual values of the test data\n",
    "# print(y_test)"
   ]
  },
  {
   "cell_type": "code",
   "execution_count": 16,
   "metadata": {},
   "outputs": [
    {
     "data": {
      "text/html": [
       "<div>\n",
       "<style scoped>\n",
       "    .dataframe tbody tr th:only-of-type {\n",
       "        vertical-align: middle;\n",
       "    }\n",
       "\n",
       "    .dataframe tbody tr th {\n",
       "        vertical-align: top;\n",
       "    }\n",
       "\n",
       "    .dataframe thead th {\n",
       "        text-align: right;\n",
       "    }\n",
       "</style>\n",
       "<table border=\"1\" class=\"dataframe\">\n",
       "  <thead>\n",
       "    <tr style=\"text-align: right;\">\n",
       "      <th></th>\n",
       "      <th>Actual Test data</th>\n",
       "      <th>Prediction</th>\n",
       "    </tr>\n",
       "  </thead>\n",
       "  <tbody>\n",
       "    <tr>\n",
       "      <th>0</th>\n",
       "      <td>3779.129883</td>\n",
       "      <td>7209.511786</td>\n",
       "    </tr>\n",
       "    <tr>\n",
       "      <th>1</th>\n",
       "      <td>241.832001</td>\n",
       "      <td>21.831214</td>\n",
       "    </tr>\n",
       "    <tr>\n",
       "      <th>2</th>\n",
       "      <td>10360.546875</td>\n",
       "      <td>11325.393855</td>\n",
       "    </tr>\n",
       "    <tr>\n",
       "      <th>3</th>\n",
       "      <td>5289.770996</td>\n",
       "      <td>4308.641731</td>\n",
       "    </tr>\n",
       "    <tr>\n",
       "      <th>4</th>\n",
       "      <td>11489.700195</td>\n",
       "      <td>10309.869320</td>\n",
       "    </tr>\n",
       "    <tr>\n",
       "      <th>...</th>\n",
       "      <td>...</td>\n",
       "      <td>...</td>\n",
       "    </tr>\n",
       "    <tr>\n",
       "      <th>457</th>\n",
       "      <td>10599.105469</td>\n",
       "      <td>11432.404609</td>\n",
       "    </tr>\n",
       "    <tr>\n",
       "      <th>458</th>\n",
       "      <td>1998.859985</td>\n",
       "      <td>2581.380203</td>\n",
       "    </tr>\n",
       "    <tr>\n",
       "      <th>459</th>\n",
       "      <td>8222.078125</td>\n",
       "      <td>11475.144309</td>\n",
       "    </tr>\n",
       "    <tr>\n",
       "      <th>460</th>\n",
       "      <td>236.326004</td>\n",
       "      <td>-11.377518</td>\n",
       "    </tr>\n",
       "    <tr>\n",
       "      <th>461</th>\n",
       "      <td>7078.500000</td>\n",
       "      <td>4716.811493</td>\n",
       "    </tr>\n",
       "  </tbody>\n",
       "</table>\n",
       "<p>462 rows × 2 columns</p>\n",
       "</div>"
      ],
      "text/plain": [
       "     Actual Test data    Prediction\n",
       "0         3779.129883   7209.511786\n",
       "1          241.832001     21.831214\n",
       "2        10360.546875  11325.393855\n",
       "3         5289.770996   4308.641731\n",
       "4        11489.700195  10309.869320\n",
       "..                ...           ...\n",
       "457      10599.105469  11432.404609\n",
       "458       1998.859985   2581.380203\n",
       "459       8222.078125  11475.144309\n",
       "460        236.326004    -11.377518\n",
       "461       7078.500000   4716.811493\n",
       "\n",
       "[462 rows x 2 columns]"
      ]
     },
     "execution_count": 16,
     "metadata": {},
     "output_type": "execute_result"
    }
   ],
   "source": [
    "# creating data frame containing the actual test data and correspondinding predicted value\n",
    "test_data_prediction={}\n",
    "test_data_prediction['Actual Test data']=y_test\n",
    "test_data_prediction['Prediction']=linear_regr_prediction\n",
    "testDataPrediction=pd.DataFrame(test_data_prediction)\n",
    "testDataPrediction"
   ]
  },
  {
   "cell_type": "code",
   "execution_count": 17,
   "metadata": {},
   "outputs": [
    {
     "data": {
      "image/png": "[encoded data removed]",
      "text/plain": [
       "<Figure size 432x288 with 1 Axes>"
      ]
     },
     "metadata": {
      "needs_background": "light"
     },
     "output_type": "display_data"
    }
   ],
   "source": [
    "plt.title('Bitcoin prediction - Using Linear regression (Comparing Test data)')\n",
    "plt.xlabel('Days')\n",
    "plt.ylabel('Price (in USD)')\n",
    "plt.plot(linear_regr_prediction)\n",
    "\n",
    "plt.plot(y_test);\n",
    "plt.legend(['Prediction','Actual']);"
   ]
  },
  {
   "cell_type": "code",
   "execution_count": 18,
   "metadata": {},
   "outputs": [
    {
     "name": "stdout",
     "output_type": "stream",
     "text": [
      "[40989.75404109 41956.45121159 41310.75141618 40709.09348886\n",
      " 35267.02131944 37779.50117374 36698.33701365 36953.88384195\n",
      " 37042.64060883 37277.12090113 34813.92084946 36216.55733272\n",
      " 39289.97113    39235.96210501 37904.65787156 38391.94559967\n",
      " 40665.92048313 42926.85792921 42297.57648122 43701.57703338\n",
      " 44994.31818372 44576.4629131  52981.53132907 53309.57414253\n",
      " 51508.33691894 54955.57762438 54489.4217095  54029.19476735\n",
      " 55886.73247162 55803.61430637]\n"
     ]
    }
   ],
   "source": [
    "# Printing the model predictions for next 30 days\n",
    "forecast_prediction = clf.predict(X_forecast)\n",
    "print(forecast_prediction)"
   ]
  },
  {
   "cell_type": "code",
   "execution_count": 19,
   "metadata": {},
   "outputs": [
    {
     "data": {
      "text/plain": [
       "array([35791.27734375, 36630.07421875, 36069.8046875 , 35547.75      ,\n",
       "       30825.69921875, 33005.76171875, 32067.64257812, 32289.37890625,\n",
       "       32366.39257812, 32569.84960938, 30432.546875  , 31649.60546875,\n",
       "       34316.38671875, 34269.5234375 , 33114.359375  , 33537.17578125,\n",
       "       35510.2890625 , 37472.08984375, 36926.06640625, 38144.30859375,\n",
       "       39266.01171875, 38903.44140625, 46196.46484375, 46481.10546875,\n",
       "       44918.18359375, 47909.33203125, 47504.8515625 , 47105.515625  ,\n",
       "       48717.2890625 , 48645.16796875])"
      ]
     },
     "execution_count": 19,
     "metadata": {},
     "output_type": "execute_result"
    }
   ],
   "source": [
    "actual_last_30=np.array(df['Close'][-forecast_out:])\n",
    "actual_last_30"
   ]
  },
  {
   "cell_type": "code",
   "execution_count": 20,
   "metadata": {},
   "outputs": [],
   "source": [
    "# Creating dictionary with keys: 'Actual' and 'Predicted' values for the next 30 days\n",
    "data={}\n",
    "data['Date']=list(df1['Date'][-forecast_out:])\n",
    "data['Actual']=list(actual_last_30)\n",
    "data['Prediction']=list(forecast_prediction)\n"
   ]
  },
  {
   "cell_type": "code",
   "execution_count": 21,
   "metadata": {},
   "outputs": [
    {
     "data": {
      "text/html": [
       "<div>\n",
       "<style scoped>\n",
       "    .dataframe tbody tr th:only-of-type {\n",
       "        vertical-align: middle;\n",
       "    }\n",
       "\n",
       "    .dataframe tbody tr th {\n",
       "        vertical-align: top;\n",
       "    }\n",
       "\n",
       "    .dataframe thead th {\n",
       "        text-align: right;\n",
       "    }\n",
       "</style>\n",
       "<table border=\"1\" class=\"dataframe\">\n",
       "  <thead>\n",
       "    <tr style=\"text-align: right;\">\n",
       "      <th></th>\n",
       "      <th>Date</th>\n",
       "      <th>Actual</th>\n",
       "      <th>Prediction</th>\n",
       "    </tr>\n",
       "  </thead>\n",
       "  <tbody>\n",
       "    <tr>\n",
       "      <th>0</th>\n",
       "      <td>2021-01-17</td>\n",
       "      <td>35791.277344</td>\n",
       "      <td>40989.754041</td>\n",
       "    </tr>\n",
       "    <tr>\n",
       "      <th>1</th>\n",
       "      <td>2021-01-18</td>\n",
       "      <td>36630.074219</td>\n",
       "      <td>41956.451212</td>\n",
       "    </tr>\n",
       "    <tr>\n",
       "      <th>2</th>\n",
       "      <td>2021-01-19</td>\n",
       "      <td>36069.804688</td>\n",
       "      <td>41310.751416</td>\n",
       "    </tr>\n",
       "    <tr>\n",
       "      <th>3</th>\n",
       "      <td>2021-01-20</td>\n",
       "      <td>35547.750000</td>\n",
       "      <td>40709.093489</td>\n",
       "    </tr>\n",
       "    <tr>\n",
       "      <th>4</th>\n",
       "      <td>2021-01-21</td>\n",
       "      <td>30825.699219</td>\n",
       "      <td>35267.021319</td>\n",
       "    </tr>\n",
       "    <tr>\n",
       "      <th>5</th>\n",
       "      <td>2021-01-22</td>\n",
       "      <td>33005.761719</td>\n",
       "      <td>37779.501174</td>\n",
       "    </tr>\n",
       "    <tr>\n",
       "      <th>6</th>\n",
       "      <td>2021-01-23</td>\n",
       "      <td>32067.642578</td>\n",
       "      <td>36698.337014</td>\n",
       "    </tr>\n",
       "    <tr>\n",
       "      <th>7</th>\n",
       "      <td>2021-01-24</td>\n",
       "      <td>32289.378906</td>\n",
       "      <td>36953.883842</td>\n",
       "    </tr>\n",
       "    <tr>\n",
       "      <th>8</th>\n",
       "      <td>2021-01-25</td>\n",
       "      <td>32366.392578</td>\n",
       "      <td>37042.640609</td>\n",
       "    </tr>\n",
       "    <tr>\n",
       "      <th>9</th>\n",
       "      <td>2021-01-26</td>\n",
       "      <td>32569.849609</td>\n",
       "      <td>37277.120901</td>\n",
       "    </tr>\n",
       "    <tr>\n",
       "      <th>10</th>\n",
       "      <td>2021-01-27</td>\n",
       "      <td>30432.546875</td>\n",
       "      <td>34813.920849</td>\n",
       "    </tr>\n",
       "    <tr>\n",
       "      <th>11</th>\n",
       "      <td>2021-01-28</td>\n",
       "      <td>31649.605469</td>\n",
       "      <td>36216.557333</td>\n",
       "    </tr>\n",
       "    <tr>\n",
       "      <th>12</th>\n",
       "      <td>2021-01-29</td>\n",
       "      <td>34316.386719</td>\n",
       "      <td>39289.971130</td>\n",
       "    </tr>\n",
       "    <tr>\n",
       "      <th>13</th>\n",
       "      <td>2021-01-30</td>\n",
       "      <td>34269.523438</td>\n",
       "      <td>39235.962105</td>\n",
       "    </tr>\n",
       "    <tr>\n",
       "      <th>14</th>\n",
       "      <td>2021-01-31</td>\n",
       "      <td>33114.359375</td>\n",
       "      <td>37904.657872</td>\n",
       "    </tr>\n",
       "    <tr>\n",
       "      <th>15</th>\n",
       "      <td>2021-02-01</td>\n",
       "      <td>33537.175781</td>\n",
       "      <td>38391.945600</td>\n",
       "    </tr>\n",
       "    <tr>\n",
       "      <th>16</th>\n",
       "      <td>2021-02-02</td>\n",
       "      <td>35510.289062</td>\n",
       "      <td>40665.920483</td>\n",
       "    </tr>\n",
       "    <tr>\n",
       "      <th>17</th>\n",
       "      <td>2021-02-03</td>\n",
       "      <td>37472.089844</td>\n",
       "      <td>42926.857929</td>\n",
       "    </tr>\n",
       "    <tr>\n",
       "      <th>18</th>\n",
       "      <td>2021-02-04</td>\n",
       "      <td>36926.066406</td>\n",
       "      <td>42297.576481</td>\n",
       "    </tr>\n",
       "    <tr>\n",
       "      <th>19</th>\n",
       "      <td>2021-02-05</td>\n",
       "      <td>38144.308594</td>\n",
       "      <td>43701.577033</td>\n",
       "    </tr>\n",
       "    <tr>\n",
       "      <th>20</th>\n",
       "      <td>2021-02-06</td>\n",
       "      <td>39266.011719</td>\n",
       "      <td>44994.318184</td>\n",
       "    </tr>\n",
       "    <tr>\n",
       "      <th>21</th>\n",
       "      <td>2021-02-07</td>\n",
       "      <td>38903.441406</td>\n",
       "      <td>44576.462913</td>\n",
       "    </tr>\n",
       "    <tr>\n",
       "      <th>22</th>\n",
       "      <td>2021-02-08</td>\n",
       "      <td>46196.464844</td>\n",
       "      <td>52981.531329</td>\n",
       "    </tr>\n",
       "    <tr>\n",
       "      <th>23</th>\n",
       "      <td>2021-02-09</td>\n",
       "      <td>46481.105469</td>\n",
       "      <td>53309.574143</td>\n",
       "    </tr>\n",
       "    <tr>\n",
       "      <th>24</th>\n",
       "      <td>2021-02-10</td>\n",
       "      <td>44918.183594</td>\n",
       "      <td>51508.336919</td>\n",
       "    </tr>\n",
       "    <tr>\n",
       "      <th>25</th>\n",
       "      <td>2021-02-11</td>\n",
       "      <td>47909.332031</td>\n",
       "      <td>54955.577624</td>\n",
       "    </tr>\n",
       "    <tr>\n",
       "      <th>26</th>\n",
       "      <td>2021-02-12</td>\n",
       "      <td>47504.851562</td>\n",
       "      <td>54489.421709</td>\n",
       "    </tr>\n",
       "    <tr>\n",
       "      <th>27</th>\n",
       "      <td>2021-02-13</td>\n",
       "      <td>47105.515625</td>\n",
       "      <td>54029.194767</td>\n",
       "    </tr>\n",
       "    <tr>\n",
       "      <th>28</th>\n",
       "      <td>2021-02-14</td>\n",
       "      <td>48717.289062</td>\n",
       "      <td>55886.732472</td>\n",
       "    </tr>\n",
       "    <tr>\n",
       "      <th>29</th>\n",
       "      <td>2021-02-15</td>\n",
       "      <td>48645.167969</td>\n",
       "      <td>55803.614306</td>\n",
       "    </tr>\n",
       "  </tbody>\n",
       "</table>\n",
       "</div>"
      ],
      "text/plain": [
       "         Date        Actual    Prediction\n",
       "0  2021-01-17  35791.277344  40989.754041\n",
       "1  2021-01-18  36630.074219  41956.451212\n",
       "2  2021-01-19  36069.804688  41310.751416\n",
       "3  2021-01-20  35547.750000  40709.093489\n",
       "4  2021-01-21  30825.699219  35267.021319\n",
       "5  2021-01-22  33005.761719  37779.501174\n",
       "6  2021-01-23  32067.642578  36698.337014\n",
       "7  2021-01-24  32289.378906  36953.883842\n",
       "8  2021-01-25  32366.392578  37042.640609\n",
       "9  2021-01-26  32569.849609  37277.120901\n",
       "10 2021-01-27  30432.546875  34813.920849\n",
       "11 2021-01-28  31649.605469  36216.557333\n",
       "12 2021-01-29  34316.386719  39289.971130\n",
       "13 2021-01-30  34269.523438  39235.962105\n",
       "14 2021-01-31  33114.359375  37904.657872\n",
       "15 2021-02-01  33537.175781  38391.945600\n",
       "16 2021-02-02  35510.289062  40665.920483\n",
       "17 2021-02-03  37472.089844  42926.857929\n",
       "18 2021-02-04  36926.066406  42297.576481\n",
       "19 2021-02-05  38144.308594  43701.577033\n",
       "20 2021-02-06  39266.011719  44994.318184\n",
       "21 2021-02-07  38903.441406  44576.462913\n",
       "22 2021-02-08  46196.464844  52981.531329\n",
       "23 2021-02-09  46481.105469  53309.574143\n",
       "24 2021-02-10  44918.183594  51508.336919\n",
       "25 2021-02-11  47909.332031  54955.577624\n",
       "26 2021-02-12  47504.851562  54489.421709\n",
       "27 2021-02-13  47105.515625  54029.194767\n",
       "28 2021-02-14  48717.289062  55886.732472\n",
       "29 2021-02-15  48645.167969  55803.614306"
      ]
     },
     "execution_count": 21,
     "metadata": {},
     "output_type": "execute_result"
    }
   ],
   "source": [
    "# Creating DataFrame for 'Actual' and 'Predicted' values for the next 30 days\n",
    "result_df_30days=pd.DataFrame(data)\n",
    "result_df_30days"
   ]
  },
  {
   "cell_type": "markdown",
   "metadata": {},
   "source": [
    "# Comparison plot"
   ]
  },
  {
   "cell_type": "code",
   "execution_count": 22,
   "metadata": {},
   "outputs": [
    {
     "data": {
      "image/png": "[encoded data removed]",
      "text/plain": [
       "<Figure size 432x288 with 1 Axes>"
      ]
     },
     "metadata": {
      "needs_background": "light"
     },
     "output_type": "display_data"
    }
   ],
   "source": [
    "# Comparison plot for comparing 'Actual' and 'Predicted' values\n",
    "plt.title('Bitcoin prediction - Using Linear Regression')\n",
    "plt.xlabel('Last 30 days')\n",
    "plt.ylabel('Price (in USD)')\n",
    "plt.plot(result_df_30days['Prediction'])\n",
    "\n",
    "plt.plot(result_df_30days['Actual']);\n",
    "plt.legend(['Prediction','Actual']);"
   ]
  },
  {
   "cell_type": "code",
   "execution_count": null,
   "metadata": {},
   "outputs": [],
   "source": []
  }
 ],
 "metadata": {
  "kernelspec": {
   "display_name": "Python 3",
   "language": "python",
   "name": "python3"
  },
  "language_info": {
   "codemirror_mode": {
    "name": "ipython",
    "version": 3
   },
   "file_extension": ".py",
   "mimetype": "text/x-python",
   "name": "python",
   "nbconvert_exporter": "python",
   "pygments_lexer": "ipython3",
   "version": "3.7.3"
  }
 },
 "nbformat": 4,
 "nbformat_minor": 4
}
