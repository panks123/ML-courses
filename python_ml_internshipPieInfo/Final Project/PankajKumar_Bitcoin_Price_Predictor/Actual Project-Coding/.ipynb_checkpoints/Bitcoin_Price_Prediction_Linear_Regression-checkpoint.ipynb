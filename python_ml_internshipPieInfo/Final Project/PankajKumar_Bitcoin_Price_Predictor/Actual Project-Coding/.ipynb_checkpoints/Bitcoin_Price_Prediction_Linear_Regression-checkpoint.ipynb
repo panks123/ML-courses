{
 "cells": [
  {
   "cell_type": "markdown",
   "metadata": {},
   "source": [
    "# Linear Regression"
   ]
  },
  {
   "cell_type": "markdown",
   "metadata": {},
   "source": [
    "# Importing Libraries"
   ]
  },
  {
   "cell_type": "code",
   "execution_count": 1,
   "metadata": {},
   "outputs": [],
   "source": [
    "import pandas as pd\n",
    "import numpy as np\n",
    "import datetime\n",
    "from sklearn.linear_model import LinearRegression\n",
    "from sklearn import preprocessing, svm\n",
    "import yfinance as yf\n",
    "import matplotlib.pyplot as plt"
   ]
  },
  {
   "cell_type": "markdown",
   "metadata": {},
   "source": [
    "# Including the dataset"
   ]
  },
  {
   "cell_type": "code",
   "execution_count": 2,
   "metadata": {},
   "outputs": [
    {
     "name": "stdout",
     "output_type": "stream",
     "text": [
      "[*********************100%***********************]  1 of 1 completed\n"
     ]
    }
   ],
   "source": [
    "df=yf.download(\"BTC-USD\")"
   ]
  },
  {
   "cell_type": "code",
   "execution_count": 3,
   "metadata": {},
   "outputs": [
    {
     "data": {
      "text/html": [
       "<div>\n",
       "<style scoped>\n",
       "    .dataframe tbody tr th:only-of-type {\n",
       "        vertical-align: middle;\n",
       "    }\n",
       "\n",
       "    .dataframe tbody tr th {\n",
       "        vertical-align: top;\n",
       "    }\n",
       "\n",
       "    .dataframe thead th {\n",
       "        text-align: right;\n",
       "    }\n",
       "</style>\n",
       "<table border=\"1\" class=\"dataframe\">\n",
       "  <thead>\n",
       "    <tr style=\"text-align: right;\">\n",
       "      <th></th>\n",
       "      <th>Date</th>\n",
       "      <th>Close</th>\n",
       "    </tr>\n",
       "  </thead>\n",
       "  <tbody>\n",
       "    <tr>\n",
       "      <th>0</th>\n",
       "      <td>2014-09-17</td>\n",
       "      <td>457.334015</td>\n",
       "    </tr>\n",
       "    <tr>\n",
       "      <th>1</th>\n",
       "      <td>2014-09-18</td>\n",
       "      <td>424.440002</td>\n",
       "    </tr>\n",
       "    <tr>\n",
       "      <th>2</th>\n",
       "      <td>2014-09-19</td>\n",
       "      <td>394.795990</td>\n",
       "    </tr>\n",
       "    <tr>\n",
       "      <th>3</th>\n",
       "      <td>2014-09-20</td>\n",
       "      <td>408.903992</td>\n",
       "    </tr>\n",
       "    <tr>\n",
       "      <th>4</th>\n",
       "      <td>2014-09-21</td>\n",
       "      <td>398.821014</td>\n",
       "    </tr>\n",
       "  </tbody>\n",
       "</table>\n",
       "</div>"
      ],
      "text/plain": [
       "        Date       Close\n",
       "0 2014-09-17  457.334015\n",
       "1 2014-09-18  424.440002\n",
       "2 2014-09-19  394.795990\n",
       "3 2014-09-20  408.903992\n",
       "4 2014-09-21  398.821014"
      ]
     },
     "execution_count": 3,
     "metadata": {},
     "output_type": "execute_result"
    }
   ],
   "source": [
    "df.reset_index(inplace=True)\n",
    "df=df[['Date','Close']]\n",
    "df1=df\n",
    "# showing first 5 rows of data\n",
    "df.head()"
   ]
  },
  {
   "cell_type": "markdown",
   "metadata": {},
   "source": [
    "# Plotting the growth trend of bitcoin prices"
   ]
  },
  {
   "cell_type": "code",
   "execution_count": 4,
   "metadata": {},
   "outputs": [
    {
     "data": {
      "image/png": "[encoded data removed]",
      "text/plain": [
       "<Figure size 432x288 with 1 Axes>"
      ]
     },
     "metadata": {
      "needs_background": "light"
     },
     "output_type": "display_data"
    }
   ],
   "source": [
    "plt.title('Growth trend of Bitcoin Prices')\n",
    "plt.xlabel('Years')\n",
    "plt.ylabel('Price (in USD)')\n",
    "plt.plot(df['Date'],df['Close']);"
   ]
  },
  {
   "cell_type": "markdown",
   "metadata": {},
   "source": [
    "# Creating the usable data"
   ]
  },
  {
   "cell_type": "code",
   "execution_count": 5,
   "metadata": {},
   "outputs": [],
   "source": [
    "# Removing the 'Date' column \n",
    "df = df[['Close']]"
   ]
  },
  {
   "cell_type": "code",
   "execution_count": 6,
   "metadata": {},
   "outputs": [],
   "source": [
    "# variable for predicting 'n' days out into the future , here n=30 days\n",
    "forecast_out = int(30)"
   ]
  },
  {
   "cell_type": "code",
   "execution_count": 7,
   "metadata": {},
   "outputs": [],
   "source": [
    "# creating another column shifted 'n' units up\n",
    "df['Prediction'] = df[['Close']].shift(-forecast_out)"
   ]
  },
  {
   "cell_type": "code",
   "execution_count": 8,
   "metadata": {},
   "outputs": [],
   "source": [
    "# Creating the independent dataset\n",
    "X = np.array(df.drop(['Prediction'],1))\n",
    "X = preprocessing.scale(X)"
   ]
  },
  {
   "cell_type": "code",
   "execution_count": 9,
   "metadata": {},
   "outputs": [],
   "source": [
    "X_forecast = X[-forecast_out:]\n",
    "X = X[:-forecast_out]"
   ]
  },
  {
   "cell_type": "code",
   "execution_count": 10,
   "metadata": {},
   "outputs": [],
   "source": [
    "# Creating the dependent dataset\n",
    "y = np.array(df['Prediction'])\n",
    "y = y[:-forecast_out]"
   ]
  },
  {
   "cell_type": "code",
   "execution_count": 11,
   "metadata": {},
   "outputs": [],
   "source": [
    "# Splitting into Training and Testing Data"
   ]
  },
  {
   "cell_type": "code",
   "execution_count": 12,
   "metadata": {},
   "outputs": [],
   "source": [
    "from sklearn.model_selection import train_test_split\n",
    "\n",
    "# split the data into 80% training data, 20% testing data\n",
    "X_train, X_test, y_train, y_test = train_test_split(X, y, test_size = 0.2)"
   ]
  },
  {
   "cell_type": "markdown",
   "metadata": {},
   "source": [
    "# Model selection : Linear Regression"
   ]
  },
  {
   "cell_type": "code",
   "execution_count": 13,
   "metadata": {},
   "outputs": [
    {
     "data": {
      "text/plain": [
       "LinearRegression()"
      ]
     },
     "execution_count": 13,
     "metadata": {},
     "output_type": "execute_result"
    }
   ],
   "source": [
    "# Creating and training the Linear Regression model\n",
    "clf = LinearRegression()\n",
    "clf.fit(X_train,y_train)"
   ]
  },
  {
   "cell_type": "markdown",
   "metadata": {},
   "source": [
    "# Accuracy score"
   ]
  },
  {
   "cell_type": "code",
   "execution_count": 14,
   "metadata": {},
   "outputs": [
    {
     "name": "stdout",
     "output_type": "stream",
     "text": [
      "Accuracy is: 91.69 %\n"
     ]
    }
   ],
   "source": [
    "# Testing the model\n",
    "confidence = clf.score(X_test, y_test)\n",
    "print(\"Accuracy is: %.2f\"%(confidence*100),\"%\")"
   ]
  },
  {
   "cell_type": "code",
   "execution_count": 15,
   "metadata": {},
   "outputs": [],
   "source": [
    "# Printing the predicted values of the test data\n",
    "linear_regr_prediction=clf.predict(X_test)\n",
    "# print(linear_regr_prediction)\n",
    "# print()\n",
    "# Printing the actual values of the test data\n",
    "# print(y_test)"
   ]
  },
  {
   "cell_type": "code",
   "execution_count": 16,
   "metadata": {},
   "outputs": [
    {
     "data": {
      "text/html": [
       "<div>\n",
       "<style scoped>\n",
       "    .dataframe tbody tr th:only-of-type {\n",
       "        vertical-align: middle;\n",
       "    }\n",
       "\n",
       "    .dataframe tbody tr th {\n",
       "        vertical-align: top;\n",
       "    }\n",
       "\n",
       "    .dataframe thead th {\n",
       "        text-align: right;\n",
       "    }\n",
       "</style>\n",
       "<table border=\"1\" class=\"dataframe\">\n",
       "  <thead>\n",
       "    <tr style=\"text-align: right;\">\n",
       "      <th></th>\n",
       "      <th>Actual Test data</th>\n",
       "      <th>Prediction</th>\n",
       "    </tr>\n",
       "  </thead>\n",
       "  <tbody>\n",
       "    <tr>\n",
       "      <th>0</th>\n",
       "      <td>325.748993</td>\n",
       "      <td>977.837976</td>\n",
       "    </tr>\n",
       "    <tr>\n",
       "      <th>1</th>\n",
       "      <td>7083.799805</td>\n",
       "      <td>11801.326398</td>\n",
       "    </tr>\n",
       "    <tr>\n",
       "      <th>2</th>\n",
       "      <td>8673.215820</td>\n",
       "      <td>5753.650103</td>\n",
       "    </tr>\n",
       "    <tr>\n",
       "      <th>3</th>\n",
       "      <td>896.182983</td>\n",
       "      <td>1334.812748</td>\n",
       "    </tr>\n",
       "    <tr>\n",
       "      <th>4</th>\n",
       "      <td>6359.490234</td>\n",
       "      <td>6738.734462</td>\n",
       "    </tr>\n",
       "    <tr>\n",
       "      <th>...</th>\n",
       "      <td>...</td>\n",
       "      <td>...</td>\n",
       "    </tr>\n",
       "    <tr>\n",
       "      <th>486</th>\n",
       "      <td>10266.415039</td>\n",
       "      <td>11093.887931</td>\n",
       "    </tr>\n",
       "    <tr>\n",
       "      <th>487</th>\n",
       "      <td>389.545990</td>\n",
       "      <td>997.045319</td>\n",
       "    </tr>\n",
       "    <tr>\n",
       "      <th>488</th>\n",
       "      <td>657.070984</td>\n",
       "      <td>1199.641692</td>\n",
       "    </tr>\n",
       "    <tr>\n",
       "      <th>489</th>\n",
       "      <td>9934.433594</td>\n",
       "      <td>9307.739012</td>\n",
       "    </tr>\n",
       "    <tr>\n",
       "      <th>490</th>\n",
       "      <td>9905.166992</td>\n",
       "      <td>9535.492577</td>\n",
       "    </tr>\n",
       "  </tbody>\n",
       "</table>\n",
       "<p>491 rows × 2 columns</p>\n",
       "</div>"
      ],
      "text/plain": [
       "     Actual Test data    Prediction\n",
       "0          325.748993    977.837976\n",
       "1         7083.799805  11801.326398\n",
       "2         8673.215820   5753.650103\n",
       "3          896.182983   1334.812748\n",
       "4         6359.490234   6738.734462\n",
       "..                ...           ...\n",
       "486      10266.415039  11093.887931\n",
       "487        389.545990    997.045319\n",
       "488        657.070984   1199.641692\n",
       "489       9934.433594   9307.739012\n",
       "490       9905.166992   9535.492577\n",
       "\n",
       "[491 rows x 2 columns]"
      ]
     },
     "execution_count": 16,
     "metadata": {},
     "output_type": "execute_result"
    }
   ],
   "source": [
    "# creating data frame containing the actual test data and correspondinding predicted value\n",
    "test_data_prediction={}\n",
    "test_data_prediction['Actual Test data']=y_test\n",
    "test_data_prediction['Prediction']=linear_regr_prediction\n",
    "testDataPrediction=pd.DataFrame(test_data_prediction)\n",
    "testDataPrediction"
   ]
  },
  {
   "cell_type": "code",
   "execution_count": 17,
   "metadata": {},
   "outputs": [
    {
     "data": {
      "image/png": "[encoded data removed]",
      "text/plain": [
       "<Figure size 432x288 with 1 Axes>"
      ]
     },
     "metadata": {
      "needs_background": "light"
     },
     "output_type": "display_data"
    }
   ],
   "source": [
    "plt.title('Bitcoin prediction - Using Linear regression (Comparing Test data)')\n",
    "plt.xlabel('Days')\n",
    "plt.ylabel('Price (in USD)')\n",
    "plt.plot(linear_regr_prediction)\n",
    "\n",
    "plt.plot(y_test);\n",
    "plt.legend(['Prediction','Actual']);"
   ]
  },
  {
   "cell_type": "code",
   "execution_count": 18,
   "metadata": {},
   "outputs": [
    {
     "name": "stdout",
     "output_type": "stream",
     "text": [
      "[33208.43172623 36979.4829305  36353.78993758 36969.04114661\n",
      " 35233.83348737 38686.30947876 39777.57289585 39960.44676132\n",
      " 37955.17919405 37669.31015892 35462.41535839 35295.52940466\n",
      " 35375.79610118 31459.53563007 32266.78823114 33452.26735078\n",
      " 34367.07032596 31421.64089377 31955.77142432 34354.61245993\n",
      " 34144.94372169 35540.83714956 34735.55688545 33305.31017877\n",
      " 33621.72856414 34373.01967022 34976.03364108 33474.64205856\n",
      " 33951.01944377 34424.98894219]\n"
     ]
    }
   ],
   "source": [
    "# Printing the model predictions for next 30 days\n",
    "forecast_prediction = clf.predict(X_forecast)\n",
    "print(forecast_prediction)"
   ]
  },
  {
   "cell_type": "code",
   "execution_count": 19,
   "metadata": {},
   "outputs": [
    {
     "data": {
      "text/plain": [
       "array([33472.6328125 , 37345.12109375, 36702.59765625, 37334.3984375 ,\n",
       "       35552.515625  , 39097.859375  , 40218.4765625 , 40406.26953125,\n",
       "       38347.0625    , 38053.50390625, 35787.24609375, 35615.87109375,\n",
       "       35698.296875  , 31676.69335938, 32505.66015625, 33723.02734375,\n",
       "       34662.4375    , 31637.77929688, 32186.27734375, 34649.64453125,\n",
       "       34434.3359375 , 35867.77734375, 35040.8359375 , 33572.1171875 ,\n",
       "       33897.046875  , 34668.546875  , 35287.78125   , 33746.00390625,\n",
       "       34235.1953125 , 34721.9140625 ])"
      ]
     },
     "execution_count": 19,
     "metadata": {},
     "output_type": "execute_result"
    }
   ],
   "source": [
    "actual_last_30=np.array(df['Close'][-forecast_out:])\n",
    "actual_last_30"
   ]
  },
  {
   "cell_type": "code",
   "execution_count": 20,
   "metadata": {},
   "outputs": [],
   "source": [
    "# Creating dictionary with keys: 'Actual' and 'Predicted' values for the next 30 days\n",
    "data={}\n",
    "data['Date']=list(df1['Date'][-forecast_out:])\n",
    "data['Actual']=list(actual_last_30)\n",
    "data['Prediction']=list(forecast_prediction)\n"
   ]
  },
  {
   "cell_type": "code",
   "execution_count": 21,
   "metadata": {},
   "outputs": [
    {
     "data": {
      "text/html": [
       "<div>\n",
       "<style scoped>\n",
       "    .dataframe tbody tr th:only-of-type {\n",
       "        vertical-align: middle;\n",
       "    }\n",
       "\n",
       "    .dataframe tbody tr th {\n",
       "        vertical-align: top;\n",
       "    }\n",
       "\n",
       "    .dataframe thead th {\n",
       "        text-align: right;\n",
       "    }\n",
       "</style>\n",
       "<table border=\"1\" class=\"dataframe\">\n",
       "  <thead>\n",
       "    <tr style=\"text-align: right;\">\n",
       "      <th></th>\n",
       "      <th>Date</th>\n",
       "      <th>Actual</th>\n",
       "      <th>Prediction</th>\n",
       "    </tr>\n",
       "  </thead>\n",
       "  <tbody>\n",
       "    <tr>\n",
       "      <th>0</th>\n",
       "      <td>2021-06-08</td>\n",
       "      <td>33472.632812</td>\n",
       "      <td>33208.431726</td>\n",
       "    </tr>\n",
       "    <tr>\n",
       "      <th>1</th>\n",
       "      <td>2021-06-09</td>\n",
       "      <td>37345.121094</td>\n",
       "      <td>36979.482930</td>\n",
       "    </tr>\n",
       "    <tr>\n",
       "      <th>2</th>\n",
       "      <td>2021-06-10</td>\n",
       "      <td>36702.597656</td>\n",
       "      <td>36353.789938</td>\n",
       "    </tr>\n",
       "    <tr>\n",
       "      <th>3</th>\n",
       "      <td>2021-06-11</td>\n",
       "      <td>37334.398438</td>\n",
       "      <td>36969.041147</td>\n",
       "    </tr>\n",
       "    <tr>\n",
       "      <th>4</th>\n",
       "      <td>2021-06-12</td>\n",
       "      <td>35552.515625</td>\n",
       "      <td>35233.833487</td>\n",
       "    </tr>\n",
       "    <tr>\n",
       "      <th>5</th>\n",
       "      <td>2021-06-13</td>\n",
       "      <td>39097.859375</td>\n",
       "      <td>38686.309479</td>\n",
       "    </tr>\n",
       "    <tr>\n",
       "      <th>6</th>\n",
       "      <td>2021-06-14</td>\n",
       "      <td>40218.476562</td>\n",
       "      <td>39777.572896</td>\n",
       "    </tr>\n",
       "    <tr>\n",
       "      <th>7</th>\n",
       "      <td>2021-06-15</td>\n",
       "      <td>40406.269531</td>\n",
       "      <td>39960.446761</td>\n",
       "    </tr>\n",
       "    <tr>\n",
       "      <th>8</th>\n",
       "      <td>2021-06-16</td>\n",
       "      <td>38347.062500</td>\n",
       "      <td>37955.179194</td>\n",
       "    </tr>\n",
       "    <tr>\n",
       "      <th>9</th>\n",
       "      <td>2021-06-17</td>\n",
       "      <td>38053.503906</td>\n",
       "      <td>37669.310159</td>\n",
       "    </tr>\n",
       "    <tr>\n",
       "      <th>10</th>\n",
       "      <td>2021-06-18</td>\n",
       "      <td>35787.246094</td>\n",
       "      <td>35462.415358</td>\n",
       "    </tr>\n",
       "    <tr>\n",
       "      <th>11</th>\n",
       "      <td>2021-06-19</td>\n",
       "      <td>35615.871094</td>\n",
       "      <td>35295.529405</td>\n",
       "    </tr>\n",
       "    <tr>\n",
       "      <th>12</th>\n",
       "      <td>2021-06-20</td>\n",
       "      <td>35698.296875</td>\n",
       "      <td>35375.796101</td>\n",
       "    </tr>\n",
       "    <tr>\n",
       "      <th>13</th>\n",
       "      <td>2021-06-21</td>\n",
       "      <td>31676.693359</td>\n",
       "      <td>31459.535630</td>\n",
       "    </tr>\n",
       "    <tr>\n",
       "      <th>14</th>\n",
       "      <td>2021-06-22</td>\n",
       "      <td>32505.660156</td>\n",
       "      <td>32266.788231</td>\n",
       "    </tr>\n",
       "    <tr>\n",
       "      <th>15</th>\n",
       "      <td>2021-06-23</td>\n",
       "      <td>33723.027344</td>\n",
       "      <td>33452.267351</td>\n",
       "    </tr>\n",
       "    <tr>\n",
       "      <th>16</th>\n",
       "      <td>2021-06-24</td>\n",
       "      <td>34662.437500</td>\n",
       "      <td>34367.070326</td>\n",
       "    </tr>\n",
       "    <tr>\n",
       "      <th>17</th>\n",
       "      <td>2021-06-25</td>\n",
       "      <td>31637.779297</td>\n",
       "      <td>31421.640894</td>\n",
       "    </tr>\n",
       "    <tr>\n",
       "      <th>18</th>\n",
       "      <td>2021-06-26</td>\n",
       "      <td>32186.277344</td>\n",
       "      <td>31955.771424</td>\n",
       "    </tr>\n",
       "    <tr>\n",
       "      <th>19</th>\n",
       "      <td>2021-06-27</td>\n",
       "      <td>34649.644531</td>\n",
       "      <td>34354.612460</td>\n",
       "    </tr>\n",
       "    <tr>\n",
       "      <th>20</th>\n",
       "      <td>2021-06-28</td>\n",
       "      <td>34434.335938</td>\n",
       "      <td>34144.943722</td>\n",
       "    </tr>\n",
       "    <tr>\n",
       "      <th>21</th>\n",
       "      <td>2021-06-29</td>\n",
       "      <td>35867.777344</td>\n",
       "      <td>35540.837150</td>\n",
       "    </tr>\n",
       "    <tr>\n",
       "      <th>22</th>\n",
       "      <td>2021-06-30</td>\n",
       "      <td>35040.835938</td>\n",
       "      <td>34735.556885</td>\n",
       "    </tr>\n",
       "    <tr>\n",
       "      <th>23</th>\n",
       "      <td>2021-07-01</td>\n",
       "      <td>33572.117188</td>\n",
       "      <td>33305.310179</td>\n",
       "    </tr>\n",
       "    <tr>\n",
       "      <th>24</th>\n",
       "      <td>2021-07-02</td>\n",
       "      <td>33897.046875</td>\n",
       "      <td>33621.728564</td>\n",
       "    </tr>\n",
       "    <tr>\n",
       "      <th>25</th>\n",
       "      <td>2021-07-03</td>\n",
       "      <td>34668.546875</td>\n",
       "      <td>34373.019670</td>\n",
       "    </tr>\n",
       "    <tr>\n",
       "      <th>26</th>\n",
       "      <td>2021-07-04</td>\n",
       "      <td>35287.781250</td>\n",
       "      <td>34976.033641</td>\n",
       "    </tr>\n",
       "    <tr>\n",
       "      <th>27</th>\n",
       "      <td>2021-07-05</td>\n",
       "      <td>33746.003906</td>\n",
       "      <td>33474.642059</td>\n",
       "    </tr>\n",
       "    <tr>\n",
       "      <th>28</th>\n",
       "      <td>2021-07-06</td>\n",
       "      <td>34235.195312</td>\n",
       "      <td>33951.019444</td>\n",
       "    </tr>\n",
       "    <tr>\n",
       "      <th>29</th>\n",
       "      <td>2021-07-07</td>\n",
       "      <td>34721.914062</td>\n",
       "      <td>34424.988942</td>\n",
       "    </tr>\n",
       "  </tbody>\n",
       "</table>\n",
       "</div>"
      ],
      "text/plain": [
       "         Date        Actual    Prediction\n",
       "0  2021-06-08  33472.632812  33208.431726\n",
       "1  2021-06-09  37345.121094  36979.482930\n",
       "2  2021-06-10  36702.597656  36353.789938\n",
       "3  2021-06-11  37334.398438  36969.041147\n",
       "4  2021-06-12  35552.515625  35233.833487\n",
       "5  2021-06-13  39097.859375  38686.309479\n",
       "6  2021-06-14  40218.476562  39777.572896\n",
       "7  2021-06-15  40406.269531  39960.446761\n",
       "8  2021-06-16  38347.062500  37955.179194\n",
       "9  2021-06-17  38053.503906  37669.310159\n",
       "10 2021-06-18  35787.246094  35462.415358\n",
       "11 2021-06-19  35615.871094  35295.529405\n",
       "12 2021-06-20  35698.296875  35375.796101\n",
       "13 2021-06-21  31676.693359  31459.535630\n",
       "14 2021-06-22  32505.660156  32266.788231\n",
       "15 2021-06-23  33723.027344  33452.267351\n",
       "16 2021-06-24  34662.437500  34367.070326\n",
       "17 2021-06-25  31637.779297  31421.640894\n",
       "18 2021-06-26  32186.277344  31955.771424\n",
       "19 2021-06-27  34649.644531  34354.612460\n",
       "20 2021-06-28  34434.335938  34144.943722\n",
       "21 2021-06-29  35867.777344  35540.837150\n",
       "22 2021-06-30  35040.835938  34735.556885\n",
       "23 2021-07-01  33572.117188  33305.310179\n",
       "24 2021-07-02  33897.046875  33621.728564\n",
       "25 2021-07-03  34668.546875  34373.019670\n",
       "26 2021-07-04  35287.781250  34976.033641\n",
       "27 2021-07-05  33746.003906  33474.642059\n",
       "28 2021-07-06  34235.195312  33951.019444\n",
       "29 2021-07-07  34721.914062  34424.988942"
      ]
     },
     "execution_count": 21,
     "metadata": {},
     "output_type": "execute_result"
    }
   ],
   "source": [
    "# Creating DataFrame for 'Actual' and 'Predicted' values for the next 30 days\n",
    "result_df_30days=pd.DataFrame(data)\n",
    "result_df_30days"
   ]
  },
  {
   "cell_type": "markdown",
   "metadata": {},
   "source": [
    "# Comparison plot"
   ]
  },
  {
   "cell_type": "code",
   "execution_count": 22,
   "metadata": {},
   "outputs": [
    {
     "data": {
      "image/png": "[encoded data removed]",
      "text/plain": [
       "<Figure size 432x288 with 1 Axes>"
      ]
     },
     "metadata": {
      "needs_background": "light"
     },
     "output_type": "display_data"
    }
   ],
   "source": [
    "# Comparison plot for comparing 'Actual' and 'Predicted' values\n",
    "plt.title('Bitcoin prediction - Using Linear Regression')\n",
    "plt.xlabel('Last 30 days')\n",
    "plt.ylabel('Price (in USD)')\n",
    "plt.plot(result_df_30days['Prediction'])\n",
    "\n",
    "plt.plot(result_df_30days['Actual']);\n",
    "plt.legend(['Prediction','Actual']);"
   ]
  },
  {
   "cell_type": "code",
   "execution_count": null,
   "metadata": {},
   "outputs": [],
   "source": []
  }
 ],
 "metadata": {
  "kernelspec": {
   "display_name": "Python 3",
   "language": "python",
   "name": "python3"
  },
  "language_info": {
   "codemirror_mode": {
    "name": "ipython",
    "version": 3
   },
   "file_extension": ".py",
   "mimetype": "text/x-python",
   "name": "python",
   "nbconvert_exporter": "python",
   "pygments_lexer": "ipython3",
   "version": "3.7.3"
  }
 },
 "nbformat": 4,
 "nbformat_minor": 4
}
