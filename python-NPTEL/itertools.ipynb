{
 "cells": [
  {
   "cell_type": "code",
   "execution_count": 1,
   "metadata": {},
   "outputs": [
    {
     "name": "stdout",
     "output_type": "stream",
     "text": [
      "Sum after each iteration is:\n",
      "[1, 5, 10, 17]\n",
      "Product after each iteration is:\n",
      "[1, 4, 20, 140]\n"
     ]
    }
   ],
   "source": [
    "#accumulate()\n",
    "import itertools\n",
    "li1=[1,4,5,7]\n",
    "print(\"Sum after each iteration is:\")\n",
    "print(list(itertools.accumulate(li1)))\n",
    "print(\"Product after each iteration is:\")\n",
    "print(list(itertools.accumulate(li1,lambda x,y:x*y)))"
   ]
  },
  {
   "cell_type": "code",
   "execution_count": 2,
   "metadata": {},
   "outputs": [
    {
     "name": "stdout",
     "output_type": "stream",
     "text": [
      "Values after the condition becomes false:\n",
      "[7, 8, 9, 10]\n",
      "Values till first false value is encountered\n",
      "[2, 34, 6]\n"
     ]
    }
   ],
   "source": [
    "#dropwhile()\n",
    "li1=[2,34,6,7,8,9,10]\n",
    "print(\"Values after the condition becomes false:\")\n",
    "print(list(itertools.dropwhile(lambda x:x%2==0,li1)))\n",
    "#takewhile()\n",
    "print('Values till first false value is encountered')\n",
    "print(list(itertools.takewhile(lambda x:x%2==0,li1)))"
   ]
  },
  {
   "cell_type": "code",
   "execution_count": 3,
   "metadata": {},
   "outputs": [
    {
     "name": "stdout",
     "output_type": "stream",
     "text": [
      "False values:\n",
      "[7, 9]\n"
     ]
    }
   ],
   "source": [
    "li1=[2,34,6,7,8,9,10]\n",
    "print(\"False values:\")\n",
    "print(list(itertools.filterfalse(lambda x:x%2==0,li1)))\n"
   ]
  },
  {
   "cell_type": "code",
   "execution_count": 5,
   "metadata": {},
   "outputs": [
    {
     "name": "stdout",
     "output_type": "stream",
     "text": [
      "3\n",
      "5\n",
      "7\n",
      "9\n"
     ]
    }
   ],
   "source": [
    "#count()\n",
    "for i in itertools.count(3,2):\n",
    "    if i>=10:\n",
    "        break\n",
    "        \n",
    "    print (i)"
   ]
  },
  {
   "cell_type": "code",
   "execution_count": null,
   "metadata": {},
   "outputs": [],
   "source": []
  }
 ],
 "metadata": {
  "kernelspec": {
   "display_name": "Python 3",
   "language": "python",
   "name": "python3"
  },
  "language_info": {
   "codemirror_mode": {
    "name": "ipython",
    "version": 3
   },
   "file_extension": ".py",
   "mimetype": "text/x-python",
   "name": "python",
   "nbconvert_exporter": "python",
   "pygments_lexer": "ipython3",
   "version": "3.7.3"
  }
 },
 "nbformat": 4,
 "nbformat_minor": 2
}
