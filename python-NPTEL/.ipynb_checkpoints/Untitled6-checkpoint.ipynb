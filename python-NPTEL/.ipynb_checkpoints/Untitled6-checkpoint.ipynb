{
 "cells": [
  {
   "cell_type": "code",
   "execution_count": null,
   "metadata": {},
   "outputs": [],
   "source": [
    "s=input(\"Enter a value\")\n",
    "sum=0\n",
    "for i in s:\n",
    "    sum=sum+int(i)\n",
    "print(sum)"
   ]
  },
  {
   "cell_type": "code",
   "execution_count": 25,
   "metadata": {},
   "outputs": [
    {
     "name": "stdout",
     "output_type": "stream",
     "text": [
      "['kshiv', 7]\n",
      "['amyra', 7]\n",
      "['sanzla', 8]\n",
      "['hara', 8]\n",
      "['pankaj', 9]\n",
      "\n",
      "['pankaj', 9]\n",
      "['hara', 8]\n"
     ]
    }
   ],
   "source": [
    "\n",
    "\n",
    "l = [[\"sanzla\",8], [\"pankaj\",9],[\"kshiv\",7],[\"amyra\",7],[\"hara\",8]]\n",
    "z=sorted(l, key= lambda x: x[1])\n",
    "\n",
    "for i in z:\n",
    "    print(i)\n",
    "    \n",
    "max = z[len(z)-1]\n",
    "print(end=\"\\n\")\n",
    "print(max)\n",
    "x=[]\n",
    "for i in range(len(z)-2,-1,-1):\n",
    "    if z[i][1]!=max[1]:\n",
    "        x=z[i]\n",
    "        break\n",
    "print(x)\n",
    "\n",
    "\n",
    "\n",
    "        "
   ]
  },
  {
   "cell_type": "code",
   "execution_count": 26,
   "metadata": {},
   "outputs": [
    {
     "name": "stdout",
     "output_type": "stream",
     "text": [
      "8\n",
      "7\n",
      "6\n",
      "5\n",
      "4\n",
      "3\n",
      "2\n",
      "1\n",
      "0\n"
     ]
    }
   ],
   "source": []
  },
  {
   "cell_type": "code",
   "execution_count": null,
   "metadata": {},
   "outputs": [],
   "source": []
  },
  {
   "cell_type": "code",
   "execution_count": null,
   "metadata": {},
   "outputs": [],
   "source": []
  }
 ],
 "metadata": {
  "kernelspec": {
   "display_name": "Python 3",
   "language": "python",
   "name": "python3"
  },
  "language_info": {
   "codemirror_mode": {
    "name": "ipython",
    "version": 3
   },
   "file_extension": ".py",
   "mimetype": "text/x-python",
   "name": "python",
   "nbconvert_exporter": "python",
   "pygments_lexer": "ipython3",
   "version": "3.7.3"
  }
 },
 "nbformat": 4,
 "nbformat_minor": 2
}
