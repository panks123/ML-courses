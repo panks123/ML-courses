{
 "cells": [
  {
   "cell_type": "code",
   "execution_count": 3,
   "metadata": {},
   "outputs": [
    {
     "name": "stdout",
     "output_type": "stream",
     "text": [
      "Hello\n"
     ]
    }
   ],
   "source": [
    "class Test:\n",
    "    def fun(self):\n",
    "        print(\"Hello\")\n",
    "        \n",
    "obj=Test()\n",
    "obj.fun()"
   ]
  },
  {
   "cell_type": "markdown",
   "metadata": {},
   "source": [
    "\n"
   ]
  },
  {
   "cell_type": "code",
   "execution_count": 5,
   "metadata": {},
   "outputs": [
    {
     "name": "stdout",
     "output_type": "stream",
     "text": [
      "Hello, My name is :  Pankaj\n"
     ]
    }
   ],
   "source": [
    "class Person:\n",
    "    \n",
    "    def __init__(self,name):\n",
    "        self.name=name\n",
    "        \n",
    "    def say_hi(self):\n",
    "        print(\"Hello, My name is : \",self.name)\n",
    "        \n",
    "        \n",
    "p=Person(\"Pankaj\")\n",
    "p.say_hi()"
   ]
  },
  {
   "cell_type": "code",
   "execution_count": 6,
   "metadata": {},
   "outputs": [
    {
     "name": "stdout",
     "output_type": "stream",
     "text": [
      "Pankaj   1337\n"
     ]
    }
   ],
   "source": [
    "class Myclass:\n",
    "    \n",
    "    number=0\n",
    "    name=\"noname\"\n",
    "    \n",
    "def Main():\n",
    "    \n",
    "    me=Myclass()\n",
    "    me.number=1337\n",
    "    me.name=\"Pankaj\"\n",
    "    print(me.name, \" \", me.number)\n",
    "    \n",
    "\n",
    "if __name__=='__main__':\n",
    "    Main()"
   ]
  },
  {
   "cell_type": "code",
   "execution_count": 8,
   "metadata": {},
   "outputs": [
    {
     "name": "stdout",
     "output_type": "stream",
     "text": [
      "cse\n",
      "101\n",
      "cse\n",
      "102\n",
      "cse\n"
     ]
    }
   ],
   "source": [
    "class CSStudent:\n",
    "    \n",
    "    stream='cse'\n",
    "    \n",
    "    def __init__(self,roll):\n",
    "        self.roll=roll\n",
    "        \n",
    "        \n",
    "a=CSStudent(101)\n",
    "b=CSStudent(102)\n",
    "print(a.stream)\n",
    "print(a.roll)\n",
    "print(b.stream)\n",
    "print(b.roll)\n",
    "print(CSStudent.stream)"
   ]
  },
  {
   "cell_type": "code",
   "execution_count": 10,
   "metadata": {},
   "outputs": [
    {
     "name": "stdout",
     "output_type": "stream",
     "text": [
      "cse\n",
      "101\n",
      "Ranchi,Jharkhand\n"
     ]
    }
   ],
   "source": [
    "class CSStudent:\n",
    "    \n",
    "    stream=\"cse\"\n",
    "    \n",
    "    def __init__(self,roll):\n",
    "        self.roll=roll\n",
    "        \n",
    "    def set_address(self,address):\n",
    "        self.address=address\n",
    "        \n",
    "    def get_address(self):\n",
    "        return self.address\n",
    "    \n",
    "a=CSStudent(101)\n",
    "a.set_address(\"Ranchi,Jharkhand\")\n",
    "print(a.stream)\n",
    "print(a.roll)\n",
    "print(a.get_address())"
   ]
  },
  {
   "cell_type": "code",
   "execution_count": 12,
   "metadata": {},
   "outputs": [
    {
     "name": "stdout",
     "output_type": "stream",
     "text": [
      "<__main__.Test object at 0x0000023530632BA8>\n"
     ]
    }
   ],
   "source": [
    "#empty class\n",
    "class Test:\n",
    "    pass\n",
    "\n",
    "x=Test()\n",
    "print(x)"
   ]
  },
  {
   "cell_type": "code",
   "execution_count": 23,
   "metadata": {},
   "outputs": [
    {
     "name": "stdout",
     "output_type": "stream",
     "text": [
      "Employee.__dict__ : {'__module__': '__main__', '__doc__': 'Common base class for all employees ', 'empCount': 0, '__init__': <function Employee.__init__ at 0x000001879631DD08>, 'displayCount': <function Employee.displayCount at 0x000001879631D6A8>, 'displayEmployee': <function Employee.displayEmployee at 0x000001879631D7B8>, '__dict__': <attribute '__dict__' of 'Employee' objects>, '__weakref__': <attribute '__weakref__' of 'Employee' objects>}\n",
      "\n",
      "e.__dict__ : {'name': 'pankaj', 'salary': 100000}\n",
      "Employee.__doc__ : Common base class for all employees \n",
      "\n",
      "e.__doc__ : Common base class for all employees \n",
      "Employee.__name__ : Employee\n",
      "Employee.__module__ : __main__\n",
      "e.__module__ : __main__\n",
      "Employee.__bases__ : (<class 'object'>,)\n"
     ]
    }
   ],
   "source": [
    "'''Built in attributes '''\n",
    "class Employee:\n",
    "    '''Common base class for all employees '''\n",
    "    empCount=0\n",
    "    def __init__(self,name,salary):\n",
    "        self.name=name\n",
    "        self.salary=salary\n",
    "        Employee.empCount +=1\n",
    "        \n",
    "    def displayCount(self):\n",
    "        print(\"total no, of employees = %d\"%Employee.empCount)\n",
    "        \n",
    "    def displayEmployee(self):\n",
    "        print(\"name : \",self.name,\"Salary : \",self.salary)\n",
    "\n",
    "        \n",
    "print(\"Employee.__dict__ :\",Employee.__dict__)\n",
    "e=Employee(\"pankaj\",100000)\n",
    "print(\"\\ne.__dict__ :\",e.__dict__)\n",
    "print(\"Employee.__doc__ :\",Employee.__doc__)   \n",
    "print(\"\\ne.__doc__ :\",e.__doc__)\n",
    "print(\"Employee.__name__ :\",Employee.__name__)  \n",
    "#print(\"\\ne.__name__ :\",e.__name__)\n",
    "print(\"Employee.__module__ :\",Employee.__module__)\n",
    "print(\"e.__module__ :\",e.__module__)  \n",
    "print(\"Employee.__bases__ :\",Employee.__bases__)"
   ]
  },
  {
   "cell_type": "code",
   "execution_count": 8,
   "metadata": {},
   "outputs": [
    {
     "name": "stdout",
     "output_type": "stream",
     "text": [
      "I am public\n",
      "I am protected\n"
     ]
    },
    {
     "ename": "AttributeError",
     "evalue": "'Test' object has no attribute '__private'",
     "output_type": "error",
     "traceback": [
      "\u001b[1;31m---------------------------------------------------------------------------\u001b[0m",
      "\u001b[1;31mAttributeError\u001b[0m                            Traceback (most recent call last)",
      "\u001b[1;32m<ipython-input-8-c09e419ab087>\u001b[0m in \u001b[0;36m<module>\u001b[1;34m\u001b[0m\n\u001b[0;32m      8\u001b[0m \u001b[0mprint\u001b[0m\u001b[1;33m(\u001b[0m\u001b[0mt\u001b[0m\u001b[1;33m.\u001b[0m\u001b[0mpublic\u001b[0m\u001b[1;33m)\u001b[0m\u001b[1;33m\u001b[0m\u001b[1;33m\u001b[0m\u001b[0m\n\u001b[0;32m      9\u001b[0m \u001b[0mprint\u001b[0m\u001b[1;33m(\u001b[0m\u001b[0mt\u001b[0m\u001b[1;33m.\u001b[0m\u001b[0m_protected\u001b[0m\u001b[1;33m)\u001b[0m\u001b[1;33m\u001b[0m\u001b[1;33m\u001b[0m\u001b[0m\n\u001b[1;32m---> 10\u001b[1;33m \u001b[0mprint\u001b[0m\u001b[1;33m(\u001b[0m\u001b[0mt\u001b[0m\u001b[1;33m.\u001b[0m\u001b[0m__private\u001b[0m\u001b[1;33m)\u001b[0m\u001b[1;33m\u001b[0m\u001b[1;33m\u001b[0m\u001b[0m\n\u001b[0m",
      "\u001b[1;31mAttributeError\u001b[0m: 'Test' object has no attribute '__private'"
     ]
    }
   ],
   "source": [
    "#public private and protected attributes\n",
    "class Test:\n",
    "    public=\"I am public\"\n",
    "    _protected =\"I am protected\"\n",
    "    __private=\"I am private\"\n",
    "    \n",
    "t=Test()\n",
    "print(t.public)\n",
    "print(t._protected)\n",
    "print(t.__private)"
   ]
  },
  {
   "cell_type": "code",
   "execution_count": 7,
   "metadata": {},
   "outputs": [
    {
     "name": "stdout",
     "output_type": "stream",
     "text": [
      "I am private\n"
     ]
    }
   ],
   "source": [
    "#But we can access the private attribute as:\n",
    "\n",
    "print(t._Test__private)"
   ]
  },
  {
   "cell_type": "code",
   "execution_count": 12,
   "metadata": {},
   "outputs": [
    {
     "name": "stdout",
     "output_type": "stream",
     "text": [
      "2\n",
      "7\n"
     ]
    },
    {
     "ename": "AttributeError",
     "evalue": "'Myclass' object has no attribute '__hidden'",
     "output_type": "error",
     "traceback": [
      "\u001b[1;31m---------------------------------------------------------------------------\u001b[0m",
      "\u001b[1;31mAttributeError\u001b[0m                            Traceback (most recent call last)",
      "\u001b[1;32m<ipython-input-12-77cdafbbfb3e>\u001b[0m in \u001b[0;36m<module>\u001b[1;34m\u001b[0m\n\u001b[0;32m     10\u001b[0m \u001b[0mm1\u001b[0m\u001b[1;33m.\u001b[0m\u001b[0madd\u001b[0m\u001b[1;33m(\u001b[0m\u001b[1;36m2\u001b[0m\u001b[1;33m)\u001b[0m\u001b[1;33m\u001b[0m\u001b[1;33m\u001b[0m\u001b[0m\n\u001b[0;32m     11\u001b[0m \u001b[0mm1\u001b[0m\u001b[1;33m.\u001b[0m\u001b[0madd\u001b[0m\u001b[1;33m(\u001b[0m\u001b[1;36m5\u001b[0m\u001b[1;33m)\u001b[0m\u001b[1;33m\u001b[0m\u001b[1;33m\u001b[0m\u001b[0m\n\u001b[1;32m---> 12\u001b[1;33m \u001b[0mprint\u001b[0m\u001b[1;33m(\u001b[0m\u001b[0mm1\u001b[0m\u001b[1;33m.\u001b[0m\u001b[0m__hidden\u001b[0m\u001b[1;33m)\u001b[0m\u001b[1;33m\u001b[0m\u001b[1;33m\u001b[0m\u001b[0m\n\u001b[0m",
      "\u001b[1;31mAttributeError\u001b[0m: 'Myclass' object has no attribute '__hidden'"
     ]
    }
   ],
   "source": [
    "class Myclass:\n",
    "    __hidden=0\n",
    "    \n",
    "    def add(self,value):\n",
    "        self.__hidden+=value\n",
    "        print(self.__hidden)\n",
    "\n",
    "        \n",
    "m1=Myclass()\n",
    "m1.add(2)\n",
    "m1.add(5)\n",
    "print(m1.__hidden)"
   ]
  },
  {
   "cell_type": "code",
   "execution_count": 13,
   "metadata": {},
   "outputs": [
    {
     "name": "stdout",
     "output_type": "stream",
     "text": [
      "7\n"
     ]
    }
   ],
   "source": [
    "print(m1._Myclass__hidden)"
   ]
  },
  {
   "cell_type": "code",
   "execution_count": 5,
   "metadata": {},
   "outputs": [
    {
     "name": "stdout",
     "output_type": "stream",
     "text": [
      "Name :  Pankaj\n",
      "Pankaj\n"
     ]
    }
   ],
   "source": [
    "#constructors\n",
    "\n",
    "class Myclass:\n",
    "    name=\"\"\n",
    "    def __init__(self):\n",
    "        self.name=\"Pankaj\"\n",
    "        \n",
    "    def display(self):\n",
    "        print(\"Name : \",self.name)\n",
    "        \n",
    "obj=Myclass()\n",
    "obj.display()\n",
    "print(obj.name)"
   ]
  },
  {
   "cell_type": "code",
   "execution_count": 4,
   "metadata": {},
   "outputs": [
    {
     "name": "stdout",
     "output_type": "stream",
     "text": [
      "Answer :  300\n"
     ]
    }
   ],
   "source": [
    "#parametrized constructor\n",
    "\n",
    "class Ex:\n",
    "    first=0\n",
    "    second=0\n",
    "    answer=0\n",
    "    def __init__(self,f,s):\n",
    "        self.first=f\n",
    "        self.second=s\n",
    "        \n",
    "    def calculate(self):\n",
    "        self.answer=self.first+self.second\n",
    "        \n",
    "    def displayAns(self):\n",
    "        print(\"Answer : \",self.answer)\n",
    "        \n",
    "obj=Ex(100,200)\n",
    "obj.calculate()\n",
    "obj.displayAns()"
   ]
  },
  {
   "cell_type": "code",
   "execution_count": null,
   "metadata": {},
   "outputs": [],
   "source": []
  }
 ],
 "metadata": {
  "kernelspec": {
   "display_name": "Python 3",
   "language": "python",
   "name": "python3"
  },
  "language_info": {
   "codemirror_mode": {
    "name": "ipython",
    "version": 3
   },
   "file_extension": ".py",
   "mimetype": "text/x-python",
   "name": "python",
   "nbconvert_exporter": "python",
   "pygments_lexer": "ipython3",
   "version": "3.7.3"
  }
 },
 "nbformat": 4,
 "nbformat_minor": 2
}
