{
 "cells": [
  {
   "cell_type": "code",
   "execution_count": 3,
   "metadata": {},
   "outputs": [
    {
     "name": "stdout",
     "output_type": "stream",
     "text": [
      "H\n",
      "on P\n",
      "ython Programming\n",
      "Pytho\n",
      "Python Programming\n",
      "\n"
     ]
    }
   ],
   "source": [
    "s=\"Hello World!\"\n",
    "s1='Python Programming'\n",
    "print(s[0])\n",
    "print(s1[4:8])\n",
    "print(s1[1:])\n",
    "print(s1[:5])\n",
    "print(s1[:])\n",
    "print(s1[5:5])\n",
    "print(e in s)\n"
   ]
  },
  {
   "cell_type": "code",
   "execution_count": null,
   "metadata": {},
   "outputs": [],
   "source": []
  }
 ],
 "metadata": {
  "kernelspec": {
   "display_name": "Python 3",
   "language": "python",
   "name": "python3"
  },
  "language_info": {
   "codemirror_mode": {
    "name": "ipython",
    "version": 3
   },
   "file_extension": ".py",
   "mimetype": "text/x-python",
   "name": "python",
   "nbconvert_exporter": "python",
   "pygments_lexer": "ipython3",
   "version": "3.7.3"
  }
 },
 "nbformat": 4,
 "nbformat_minor": 2
}
