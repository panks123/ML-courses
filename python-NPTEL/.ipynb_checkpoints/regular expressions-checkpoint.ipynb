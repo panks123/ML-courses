{
 "cells": [
  {
   "cell_type": "code",
   "execution_count": 1,
   "metadata": {},
   "outputs": [],
   "source": [
    "#regular expressions\n",
    "import re"
   ]
  },
  {
   "cell_type": "code",
   "execution_count": 2,
   "metadata": {},
   "outputs": [
    {
     "name": "stdout",
     "output_type": "stream",
     "text": [
      "Match found\n",
      "<re.Match object; span=(0, 4), match='eggs'>\n",
      "eggs\n"
     ]
    }
   ],
   "source": [
    "#match() function\n",
    "pattern=r\"eggs\"\n",
    "if re.match(pattern,\"eggseggsggseggtruws\"):\n",
    "    print(\"Match found\")\n",
    "    matchObj=re.match(pattern,\"eggseggsggseggtruws\")\n",
    "    print(matchObj)\n",
    "    print(matchObj.group())\n",
    "else:\n",
    "    print(\"Match not found\")"
   ]
  },
  {
   "cell_type": "code",
   "execution_count": 3,
   "metadata": {},
   "outputs": [
    {
     "name": "stdout",
     "output_type": "stream",
     "text": [
      "Match not found\n"
     ]
    }
   ],
   "source": [
    "pattern=r\"eggs\"\n",
    "if re.match(pattern,\"eggeggsggseggtruws\"):\n",
    "    print(\"Match found\")\n",
    "    matchObj=re.match(pattern,\"eggseggsggseggtruws\")\n",
    "    print(matchObj.group())\n",
    "else:\n",
    "    print(\"Match not found\")"
   ]
  },
  {
   "cell_type": "code",
   "execution_count": 4,
   "metadata": {},
   "outputs": [
    {
     "name": "stdout",
     "output_type": "stream",
     "text": [
      "Match found\n",
      "a\n",
      "()\n"
     ]
    }
   ],
   "source": [
    "string=\"abc cxs\"\n",
    "pattern=r\"a\"\n",
    "if re.match(pattern,string):\n",
    "    print(\"Match found\")\n",
    "    matchObj=re.match(pattern,string)\n",
    "    print(matchObj.group())\n",
    "    print(matchObj.groups())\n",
    "    #print(matchObj.group(1))\n",
    "    #print(matchObj.group(2))\n",
    "else:\n",
    "    print(\"Match not found\")"
   ]
  },
  {
   "cell_type": "code",
   "execution_count": 5,
   "metadata": {},
   "outputs": [
    {
     "name": "stdout",
     "output_type": "stream",
     "text": [
      "Match not found\n"
     ]
    }
   ],
   "source": [
    "string=\"babc abc\"\n",
    "pattern=r\"a\"\n",
    "if re.match(pattern,string):\n",
    "    print(\"Match found\")\n",
    "else:\n",
    "    print(\"Match not found\")"
   ]
  },
  {
   "cell_type": "code",
   "execution_count": 6,
   "metadata": {},
   "outputs": [
    {
     "name": "stdout",
     "output_type": "stream",
     "text": [
      "Match found\n",
      "a\n",
      "()\n"
     ]
    }
   ],
   "source": [
    "string=\"axcxcxaaaaabc abc\"\n",
    "pattern=r\"a\"\n",
    "if re.match(pattern,string):\n",
    "    print(\"Match found\")\n",
    "    print(matchObj.group())\n",
    "    print(matchObj.groups())\n",
    "else:\n",
    "    print(\"Match not found\")"
   ]
  },
  {
   "cell_type": "code",
   "execution_count": 20,
   "metadata": {},
   "outputs": [
    {
     "name": "stdout",
     "output_type": "stream",
     "text": [
      "Match found\n",
      "<re.Match object; span=(5, 9), match='eggs'>\n",
      "eggs\n",
      "()\n"
     ]
    }
   ],
   "source": [
    "#search() function\n",
    "pattern=r\"eggs\"\n",
    "if re.search(pattern,\"baconeggseggstrw\"):\n",
    "    print(\"Match found\")\n",
    "    matchObj=re.search(pattern,\"baconeggseggstrw\")\n",
    "    print(matchObj)\n",
    "    print(matchObj.group())\n",
    "    print(matchObj.groups())\n",
    "else:\n",
    "    print(\"Match not found\")"
   ]
  },
  {
   "cell_type": "code",
   "execution_count": 16,
   "metadata": {},
   "outputs": [
    {
     "name": "stdout",
     "output_type": "stream",
     "text": [
      "Match not found\n"
     ]
    }
   ],
   "source": [
    "pattern=r\"eggs\"\n",
    "if re.search(pattern,\"baconeggeggtrw\"):\n",
    "    print(\"Match found\")\n",
    "    matchObj=re.search(pattern,\"eggseggsggseggtruws\")\n",
    "    print(matchObj)\n",
    "    print(matchObj.group())\n",
    "    print(matchObj.groups())\n",
    "else:\n",
    "    print(\"Match not found\")"
   ]
  },
  {
   "cell_type": "code",
   "execution_count": 23,
   "metadata": {},
   "outputs": [
    {
     "name": "stdout",
     "output_type": "stream",
     "text": [
      "['eggs', 'eggs', 'eggs']\n"
     ]
    }
   ],
   "source": [
    "#findall()function\n",
    "string=\"eggseggsggseggtruws my eggs\"\n",
    "pattern=\"eggs\"\n",
    "print(re.findall(pattern,string))"
   ]
  },
  {
   "cell_type": "code",
   "execution_count": 34,
   "metadata": {},
   "outputs": [
    {
     "name": "stdout",
     "output_type": "stream",
     "text": [
      "My name is Amyra, Hi I am Pankaj\n"
     ]
    }
   ],
   "source": [
    "#sub() function-finding and replacing\n",
    "string = \"My name is Pankaj, Hi I am Pankaj\"\n",
    "pattern=r\"Pankaj\"\n",
    "newstring=re.sub(pattern,\"Amyra\",string)\n",
    "print(newstring)"
   ]
  },
  {
   "cell_type": "code",
   "execution_count": 35,
   "metadata": {},
   "outputs": [
    {
     "name": "stdout",
     "output_type": "stream",
     "text": [
      "My name is Amyra, Hi I am Pankaj\n"
     ]
    }
   ],
   "source": [
    "string = \"My name is Pankaj, Hi I am Pankaj\"\n",
    "pattern=r\"Pankaj\"\n",
    "newstring=re.sub(pattern,\"Amyra\",string,1)\n",
    "print(newstring)"
   ]
  },
  {
   "cell_type": "code",
   "execution_count": 32,
   "metadata": {},
   "outputs": [
    {
     "name": "stdout",
     "output_type": "stream",
     "text": [
      "('My name is Amyra, Hi I am Amyra', 2)\n",
      "2\n",
      "My name is Amyra, Hi I am Amyra\n"
     ]
    }
   ],
   "source": [
    "#subn() function\n",
    "string = \"My name is Pankaj, Hi I am Pankaj\"\n",
    "pattern=r\"Pankaj\"\n",
    "t=re.subn(pattern,\"Amyra\",string)\n",
    "print(t)\n",
    "print(len(t))\n",
    "print(t[0])"
   ]
  },
  {
   "cell_type": "code",
   "execution_count": 33,
   "metadata": {},
   "outputs": [
    {
     "name": "stdout",
     "output_type": "stream",
     "text": [
      "('My name is Amyra, Hi I am Pankaj', 1)\n",
      "2\n",
      "My name is Amyra, Hi I am Pankaj\n"
     ]
    }
   ],
   "source": [
    "string = \"My name is Pankaj, Hi I am Pankaj\"\n",
    "pattern=r\"Pankaj\"\n",
    "#newstring=re.sub(pattern,\"Amyra\",string,)\n",
    "t=re.subn(pattern,\"Amyra\",string,1)\n",
    "print(t)\n",
    "print(len(t))\n",
    "print(t[0])"
   ]
  },
  {
   "cell_type": "code",
   "execution_count": 8,
   "metadata": {},
   "outputs": [
    {
     "name": "stdout",
     "output_type": "stream",
     "text": [
      "match found\n",
      "match found\n",
      "match found\n",
      "match found\n",
      "match not found\n",
      "match not found\n"
     ]
    }
   ],
   "source": [
    "#Metacharacters\n",
    "# '*' metacharacter\n",
    "strings=[\"abbc\",\"ac\",\"abbbbc\",\"acc\",\"ad\",\"aac\"]\n",
    "pattern=\"ab*c\"\n",
    "for string in strings:\n",
    "    if re.match(pattern,string):\n",
    "        print(\"match found\")\n",
    "    else:\n",
    "        print(\"match not found\")"
   ]
  },
  {
   "cell_type": "code",
   "execution_count": 9,
   "metadata": {},
   "outputs": [
    {
     "name": "stdout",
     "output_type": "stream",
     "text": [
      "match found\n",
      "match found\n",
      "match found\n",
      "match not found\n",
      "match not found\n"
     ]
    }
   ],
   "source": [
    "# '+' metacharacter\n",
    "strings=[\"abc\",\"abbc\",\"abbbbc\",\"acc\",\"aac\"]\n",
    "pattern=\"ab+c\"\n",
    "for string in strings:\n",
    "    if re.match(pattern,string):\n",
    "        print(\"match found\")\n",
    "    else:\n",
    "        print(\"match not found\")"
   ]
  },
  {
   "cell_type": "code",
   "execution_count": 13,
   "metadata": {},
   "outputs": [
    {
     "name": "stdout",
     "output_type": "stream",
     "text": [
      "match found\n",
      "match found\n",
      "match found\n",
      "match not found\n",
      "match not found\n",
      "match not found\n"
     ]
    }
   ],
   "source": [
    "# '.' metacharacter\n",
    "strings=[\"gray\",\"grdy\",\"gr#y\",\"graay\",\"tray\",\"gr\\ny\"]\n",
    "pattern=\"gr.y\"\n",
    "for string in strings:\n",
    "    if re.match(pattern,string):\n",
    "        print(\"match found\")\n",
    "    else:\n",
    "        print(\"match not found\")"
   ]
  },
  {
   "cell_type": "code",
   "execution_count": 19,
   "metadata": {},
   "outputs": [
    {
     "name": "stdout",
     "output_type": "stream",
     "text": [
      "match found\n",
      "match not found\n",
      "match found\n",
      "match not found\n",
      "match not found\n",
      "match found\n"
     ]
    }
   ],
   "source": [
    "# '^' metacharacter\n",
    "strings=[\"gray\",\"pray\",\"gr#y\",\"gpaay\",\"tray\",\"gr\\ny\"]\n",
    "pattern=r\"^gr\"\n",
    "for string in strings:\n",
    "    if re.match(pattern,string):\n",
    "        print(\"match found\")\n",
    "    else:\n",
    "        print(\"match not found\")"
   ]
  },
  {
   "cell_type": "code",
   "execution_count": 4,
   "metadata": {},
   "outputs": [
    {
     "name": "stdout",
     "output_type": "stream",
     "text": [
      "match found\n",
      "match found\n",
      "match found\n",
      "match not found\n",
      "match not found\n",
      "match not found\n"
     ]
    }
   ],
   "source": [
    "# '$' metacharacter\n",
    "strings=[\"gray\",\"grdy\",\"gr#y\",\"tray\",\"gr\\ny\",\"grej\"]\n",
    "pattern=\"gr.y$\"\n",
    "for string in strings:\n",
    "    if re.match(pattern,string):\n",
    "        print(\"match found\")\n",
    "    else:\n",
    "        print(\"match not found\")"
   ]
  },
  {
   "cell_type": "code",
   "execution_count": 8,
   "metadata": {},
   "outputs": [
    {
     "name": "stdout",
     "output_type": "stream",
     "text": [
      "match found\n"
     ]
    }
   ],
   "source": [
    "# '$' metacharacter\n",
    "pattern=r\".a$\"\n",
    "string=\"ca\"\n",
    "if re.match(pattern,string):\n",
    "    print(\"match found\")\n",
    "else:        \n",
    "    print(\"match not found\")"
   ]
  },
  {
   "cell_type": "code",
   "execution_count": 9,
   "metadata": {},
   "outputs": [
    {
     "name": "stdout",
     "output_type": "stream",
     "text": [
      "match found\n",
      "match found\n",
      "match found\n",
      "match not found\n",
      "match not found\n",
      "match not found\n"
     ]
    }
   ],
   "source": [
    "#character classe :'[]'\n",
    "pattern=r\"[A-Z][A-Z][0-9]\"\n",
    "strings=[\"AA9\",\"DA0\",\"PV2\",\"1D3\",\"aa4\",\"aB5\"]\n",
    "for string in strings:\n",
    "    if re.match(pattern,string):\n",
    "        print(\"match found\")\n",
    "    else:\n",
    "        print(\"match not found\")"
   ]
  },
  {
   "cell_type": "code",
   "execution_count": 10,
   "metadata": {},
   "outputs": [
    {
     "name": "stdout",
     "output_type": "stream",
     "text": [
      "match found\n",
      "match found\n",
      "match not found\n",
      "match not found\n",
      "match not found\n"
     ]
    }
   ],
   "source": [
    "# '?' metacharacter\n",
    "strings=[\"gry\",\"gray\",\"graay\",\"graaay\",\"grpy\"]\n",
    "pattern=\"gra?y\"\n",
    "for string in strings:\n",
    "    if re.match(pattern,string):\n",
    "        print(\"match found\")\n",
    "    else:\n",
    "        print(\"match not found\")"
   ]
  },
  {
   "cell_type": "code",
   "execution_count": 5,
   "metadata": {},
   "outputs": [
    {
     "name": "stdout",
     "output_type": "stream",
     "text": [
      "match found\n",
      "match found\n",
      "match found\n",
      "match found\n",
      "match not found\n"
     ]
    }
   ],
   "source": [
    "#character classe :'[]'\n",
    "strings=[\"astar\",\"qstar\",\"pstar\",\"bstar\",\"tstar\"]\n",
    "pattern=r\"[abpq]star\"\n",
    "for string in strings:\n",
    "    if re.match(pattern,string):\n",
    "        print(\"match found\")\n",
    "    else:\n",
    "        print(\"match not found\")"
   ]
  },
  {
   "cell_type": "code",
   "execution_count": 9,
   "metadata": {},
   "outputs": [
    {
     "name": "stdout",
     "output_type": "stream",
     "text": [
      "match not found\n",
      "match not found\n",
      "match not found\n",
      "match not found\n",
      "match found\n"
     ]
    }
   ],
   "source": [
    "strings=[\"astar\",\"qstar\",\"pstar\",\"bstar\",\"tstar\"]\n",
    "pattern=r\"[^abpq]star\"\n",
    "for string in strings:\n",
    "    if re.match(pattern,string):\n",
    "        print(\"match found\")\n",
    "    else:\n",
    "        print(\"match not found\")"
   ]
  },
  {
   "cell_type": "code",
   "execution_count": 15,
   "metadata": {},
   "outputs": [
    {
     "name": "stdout",
     "output_type": "stream",
     "text": [
      "match found\n",
      "match found\n",
      "match found\n",
      "match not found\n"
     ]
    }
   ],
   "source": [
    "#character classe :'\\d' for digits\n",
    "strings=[\"9\",\"0\",\"2\",\"a\"]\n",
    "pattern=r\"\\d\"\n",
    "for string in strings:\n",
    "    if re.match(pattern,string):\n",
    "        print(\"match found\")\n",
    "    else:\n",
    "        print(\"match not found\")"
   ]
  },
  {
   "cell_type": "code",
   "execution_count": 8,
   "metadata": {},
   "outputs": [
    {
     "name": "stdout",
     "output_type": "stream",
     "text": [
      "match not found\n",
      "match not found\n",
      "match not found\n",
      "match found\n"
     ]
    }
   ],
   "source": [
    "#character classe :'\\D' for  not digits\n",
    "strings=[\"9\",\"0\",\"2\",\"a\"]\n",
    "pattern=r\"\\D\"\n",
    "for string in strings:\n",
    "    if re.match(pattern,string):\n",
    "        print(\"match found\")\n",
    "    else:\n",
    "        print(\"match not found\")"
   ]
  },
  {
   "cell_type": "code",
   "execution_count": 6,
   "metadata": {},
   "outputs": [
    {
     "name": "stdout",
     "output_type": "stream",
     "text": [
      "match found\n",
      "match found\n",
      "match not found\n",
      "match not found\n"
     ]
    }
   ],
   "source": [
    "#character classe :'[]'\n",
    "strings=[\"Python\",\"python\",\"PYthon\",\"PYTHON\"]\n",
    "pattern=r\"[Pp]ython\"\n",
    "for string in strings:\n",
    "    if re.match(pattern,string):\n",
    "        print(\"match found\")\n",
    "    else:\n",
    "        print(\"match not found\")"
   ]
  },
  {
   "cell_type": "code",
   "execution_count": 7,
   "metadata": {},
   "outputs": [
    {
     "name": "stdout",
     "output_type": "stream",
     "text": [
      "match found\n",
      "match found\n",
      "match found\n",
      "match not found\n"
     ]
    }
   ],
   "source": [
    "#curly braces:'{}'\n",
    "strings=[\"abb\",\"abbb\",\"abbbb\",\"ab\"]\n",
    "pattern=r\"ab{2}\"\n",
    "for string in strings:\n",
    "    if re.match(pattern,string):\n",
    "        print(\"match found\")\n",
    "    else:\n",
    "        print(\"match not found\")"
   ]
  },
  {
   "cell_type": "code",
   "execution_count": 12,
   "metadata": {},
   "outputs": [
    {
     "name": "stdout",
     "output_type": "stream",
     "text": [
      "match found\n",
      "match found\n",
      "match not found\n"
     ]
    }
   ],
   "source": [
    "#'|'\n",
    "strings=[\"acd\",\"bcd\",\"ccd\"]\n",
    "pattern=r\"a|bcd\"\n",
    "for string in strings:\n",
    "    if re.match(pattern,string):\n",
    "        print(\"match found\")\n",
    "    else:\n",
    "        print(\"match not found\")"
   ]
  },
  {
   "cell_type": "code",
   "execution_count": 15,
   "metadata": {},
   "outputs": [
    {
     "name": "stdout",
     "output_type": "stream",
     "text": [
      "match found\n",
      "match found\n",
      "match found\n",
      "match found\n",
      "match not found\n",
      "match not found\n"
     ]
    }
   ],
   "source": [
    "#groups: '()'\n",
    "strings=[\"aa\",\"astara\",\"astarstara\",\"astarstarstara\",\"astar\",\"astarb\"]\n",
    "pattern=r\"a(star)*a\"\n",
    "for string in strings:\n",
    "    if re.match(pattern,string):\n",
    "        print(\"match found\")\n",
    "    else:\n",
    "        print(\"match not found\")"
   ]
  },
  {
   "cell_type": "code",
   "execution_count": 19,
   "metadata": {},
   "outputs": [
    {
     "name": "stdout",
     "output_type": "stream",
     "text": [
      "match not found\n",
      "match found\n",
      "match not found\n",
      "match not found\n",
      "match not found\n",
      "match not found\n"
     ]
    }
   ],
   "source": [
    "#groups: '()'\n",
    "strings=[\"aa\",\"astarca\",\"astarstara\",\"astarstarstara\",\"astar\",\"astarb\"]\n",
    "pattern=r\"a(star).a\"\n",
    "for string in strings:\n",
    "    if re.match(pattern,string):\n",
    "        print(\"match found\")\n",
    "    else:\n",
    "        print(\"match not found\")"
   ]
  },
  {
   "cell_type": "code",
   "execution_count": null,
   "metadata": {},
   "outputs": [],
   "source": []
  }
 ],
 "metadata": {
  "kernelspec": {
   "display_name": "Python 3",
   "language": "python",
   "name": "python3"
  },
  "language_info": {
   "codemirror_mode": {
    "name": "ipython",
    "version": 3
   },
   "file_extension": ".py",
   "mimetype": "text/x-python",
   "name": "python",
   "nbconvert_exporter": "python",
   "pygments_lexer": "ipython3",
   "version": "3.7.3"
  }
 },
 "nbformat": 4,
 "nbformat_minor": 2
}
