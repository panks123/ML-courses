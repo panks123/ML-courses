{
 "cells": [
  {
   "cell_type": "code",
   "execution_count": 2,
   "metadata": {},
   "outputs": [
    {
     "name": "stdout",
     "output_type": "stream",
     "text": [
      "{'name': 'Pankaj', 'age': 20}\n",
      "Pankaj\n",
      "20\n"
     ]
    }
   ],
   "source": [
    "dict1={\"name\":\"Pankaj\",\"age\":20}\n",
    "print(dict1)\n",
    "print(dict1[\"name\"])\n",
    "print(dict1[\"age\"])"
   ]
  },
  {
   "cell_type": "code",
   "execution_count": 11,
   "metadata": {},
   "outputs": [
    {
     "name": "stdout",
     "output_type": "stream",
     "text": [
      "name\n",
      "Pankaj\n",
      "age\n",
      "20\n"
     ]
    }
   ],
   "source": [
    "dict1={\"name\":\"Pankaj\",\"age\":20}\n",
    "for key,value in dict1.items():\n",
    "    print(key)\n",
    "    print(value)\n"
   ]
  },
  {
   "cell_type": "code",
   "execution_count": 4,
   "metadata": {},
   "outputs": [
    {
     "name": "stdout",
     "output_type": "stream",
     "text": [
      "{'name': 'Pankaj', 'age': 20, 'marks': [40, 70, 60]}\n"
     ]
    }
   ],
   "source": [
    "dict1={\"name\":\"Pankaj\",\"age\":20,\"marks\":[40,70,60]}\n",
    "print(dict1)"
   ]
  },
  {
   "cell_type": "code",
   "execution_count": 6,
   "metadata": {},
   "outputs": [
    {
     "name": "stdout",
     "output_type": "stream",
     "text": [
      "{'name': 'Pankaj', 'age': 20, 'college': 'BIT'}\n",
      "{'name': 'Pankaj', 'age': 20, 'college': 'DPS'}\n"
     ]
    }
   ],
   "source": [
    "dict1={\"name\":\"Pankaj\",\"age\":20}\n",
    "dict1[\"college\"]=\"BIT\"\n",
    "print(dict1)\n",
    "dict1[\"college\"]=\"DPS\"\n",
    "print(dict1)"
   ]
  },
  {
   "cell_type": "code",
   "execution_count": 7,
   "metadata": {},
   "outputs": [
    {
     "name": "stdout",
     "output_type": "stream",
     "text": [
      "{'name': 'Pankaj', 'age': 20, 'college': 'BIT', 'email': 'xyz.gmail.com'}\n"
     ]
    }
   ],
   "source": [
    "dict1={\"name\":\"Pankaj\",\"age\":20}\n",
    "dict2={\"college\":\"BIT\",\"email\":\"xyz.gmail.com\"}\n",
    "dict1.update(dict2)\n",
    "print(dict1)"
   ]
  },
  {
   "cell_type": "code",
   "execution_count": 8,
   "metadata": {},
   "outputs": [
    {
     "name": "stdout",
     "output_type": "stream",
     "text": [
      "{}\n"
     ]
    }
   ],
   "source": [
    "dict1={\"name\":\"Pankaj\",\"age\":20}\n",
    "dict1.clear()\n",
    "print(dict1)"
   ]
  },
  {
   "cell_type": "code",
   "execution_count": 16,
   "metadata": {},
   "outputs": [],
   "source": [
    "dict1={\"name\":\"Pankaj\",\"age\":20}\n",
    "del dict1\n",
    "#print(dict1)#as dict1 is already deleted from memory"
   ]
  },
  {
   "cell_type": "code",
   "execution_count": 18,
   "metadata": {},
   "outputs": [
    {
     "name": "stdout",
     "output_type": "stream",
     "text": [
      "{1: 1, 2: 4, 3: 9, 4: 16, 5: 25, 6: 36, 7: 49, 8: 64}\n"
     ]
    }
   ],
   "source": [
    "dict1={}\n",
    "for i in range(1,9):\n",
    "    dict1[i]=i**2\n",
    "\n",
    "print(dict1)\n"
   ]
  },
  {
   "cell_type": "code",
   "execution_count": 22,
   "metadata": {},
   "outputs": [
    {
     "name": "stdout",
     "output_type": "stream",
     "text": [
      "{1: 'a', 2: 'b', 3: 'c'}\n"
     ]
    }
   ],
   "source": [
    "dict1={1:\"a\",2:\"b\",3:\"c\",4:\"a\",5:\"a\"}\n",
    "dict2={}\n",
    "for key,value in dict1.items():\n",
    "    if value not in dict2.values():\n",
    "        dict2[key]=value\n",
    "        \n",
    "print(dict2)\n",
    "        \n",
    "    \n",
    "    \n",
    "            "
   ]
  },
  {
   "cell_type": "code",
   "execution_count": null,
   "metadata": {},
   "outputs": [],
   "source": []
  },
  {
   "cell_type": "code",
   "execution_count": null,
   "metadata": {},
   "outputs": [],
   "source": []
  },
  {
   "cell_type": "code",
   "execution_count": null,
   "metadata": {},
   "outputs": [],
   "source": []
  },
  {
   "cell_type": "code",
   "execution_count": null,
   "metadata": {},
   "outputs": [],
   "source": []
  }
 ],
 "metadata": {
  "kernelspec": {
   "display_name": "Python 3",
   "language": "python",
   "name": "python3"
  },
  "language_info": {
   "codemirror_mode": {
    "name": "ipython",
    "version": 3
   },
   "file_extension": ".py",
   "mimetype": "text/x-python",
   "name": "python",
   "nbconvert_exporter": "python",
   "pygments_lexer": "ipython3",
   "version": "3.7.3"
  }
 },
 "nbformat": 4,
 "nbformat_minor": 2
}
