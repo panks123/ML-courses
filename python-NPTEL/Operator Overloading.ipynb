{
 "cells": [
  {
   "cell_type": "code",
   "execution_count": 21,
   "metadata": {},
   "outputs": [
    {
     "name": "stdout",
     "output_type": "stream",
     "text": [
      "300000\n"
     ]
    }
   ],
   "source": [
    "class Employee:\n",
    "    def __init__(self,name,salary,post):\n",
    "        self.name=name\n",
    "        self.salary=salary\n",
    "        self.post=post\n",
    "        \n",
    "    def __add__(self,other):\n",
    "        return self.salary + other.salary\n",
    "    \n",
    "emp1=Employee(\"Pankaj\",100000,\"Developer\")\n",
    "emp2=Employee(\"Amyra\",200000,\"Manager\")\n",
    "print(emp1+emp2)"
   ]
  },
  {
   "cell_type": "code",
   "execution_count": 25,
   "metadata": {},
   "outputs": [
    {
     "name": "stdout",
     "output_type": "stream",
     "text": [
      "(5,5)\n"
     ]
    }
   ],
   "source": [
    "class Point:\n",
    "    def __init__(self,x,y):\n",
    "        self.x=x\n",
    "        self.y=y\n",
    "        \n",
    "    def __add__(self,other):\n",
    "        x=self.x+other.x\n",
    "        y=self.y+other.y\n",
    "        return Point(x,y)\n",
    "    \n",
    "    def __str__(self):\n",
    "        return \"({0},{1})\".format(self.x,self.y)\n",
    "    \n",
    "point1=Point(2,3)\n",
    "point2=Point(3,2)\n",
    "print(point1+point2)\n",
    "\n",
    "    "
   ]
  },
  {
   "cell_type": "code",
   "execution_count": 18,
   "metadata": {},
   "outputs": [
    {
     "name": "stdout",
     "output_type": "stream",
     "text": [
      "300000\n",
      "Employee('Pankaj',100000,'Developer')\n",
      "The name is Pankaj. Salary is 100000, and post is Developer\n"
     ]
    }
   ],
   "source": [
    "class Employee:\n",
    "    def __init__(self,name,salary,post):\n",
    "        self.name=name\n",
    "        self.salary=salary\n",
    "        self.post=post\n",
    "        \n",
    "    def __add__(self,other):\n",
    "        return self.salary + other.salary\n",
    "    \n",
    "    def __repr__(self):\n",
    "        return f\"The name is {self.name}. Salary is {self.salary}, and post is {self.post}\"\n",
    "    \n",
    "    def __str__(self):\n",
    "        return f\"Employee('{self.name}',{self.salary},'{self.post}')\"\n",
    "    \n",
    "emp1=Employee(\"Pankaj\",100000,\"Developer\")\n",
    "emp2=Employee(\"Amyra\",200000,\"Manager\")\n",
    "print(emp1+emp2)\n",
    "print(emp1)\n",
    "print(repr(emp1))"
   ]
  },
  {
   "cell_type": "code",
   "execution_count": 19,
   "metadata": {},
   "outputs": [
    {
     "name": "stdout",
     "output_type": "stream",
     "text": [
      "a2 is greater than a1\n"
     ]
    }
   ],
   "source": [
    "class A:\n",
    "    def __init__(self,a):\n",
    "        self.a=a\n",
    "        \n",
    "    def __gt__(self,other):\n",
    "        if(self.a>other.a):\n",
    "            return True\n",
    "        else:\n",
    "            return False\n",
    "        \n",
    "a1=A(2)\n",
    "a2=A(3)\n",
    "if a1>a2:\n",
    "    print(\"a1 is greater than a2\")\n",
    "else:\n",
    "    print(\"a2 is greater than a1\")"
   ]
  },
  {
   "cell_type": "code",
   "execution_count": null,
   "metadata": {},
   "outputs": [],
   "source": []
  }
 ],
 "metadata": {
  "kernelspec": {
   "display_name": "Python 3",
   "language": "python",
   "name": "python3"
  },
  "language_info": {
   "codemirror_mode": {
    "name": "ipython",
    "version": 3
   },
   "file_extension": ".py",
   "mimetype": "text/x-python",
   "name": "python",
   "nbconvert_exporter": "python",
   "pygments_lexer": "ipython3",
   "version": "3.7.3"
  }
 },
 "nbformat": 4,
 "nbformat_minor": 2
}
